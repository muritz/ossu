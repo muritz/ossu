{
 "cells": [
  {
   "cell_type": "markdown",
   "metadata": {},
   "source": [
    "## Chapter 5: Structured Types and Mutability"
   ]
  },
  {
   "cell_type": "markdown",
   "metadata": {},
   "source": [
    "### Chapter 5.1: Tuples\n",
    ">**Tuples** are immutable ordered sequences of elements of different types"
   ]
  },
  {
   "cell_type": "code",
   "execution_count": 4,
   "metadata": {},
   "outputs": [
    {
     "name": "stdout",
     "output_type": "stream",
     "text": [
      "('a', 2)\n"
     ]
    }
   ],
   "source": [
    "def intersect(t1, t2):\n",
    "    \"\"\"Assumes t1 and t2 are tuples\n",
    "       Returns a tuple containing elements that are in\n",
    "          both t1 and t2\"\"\"\n",
    "    result = ()\n",
    "    for e in t1:\n",
    "        if e in t2:\n",
    "            result += (e,)\n",
    "    return result\n",
    "print(intersect((1, 'a', 2), ('b', 2, 'a')))"
   ]
  },
  {
   "cell_type": "markdown",
   "metadata": {},
   "source": [
    "### Chapter 5.1.1: Multiple Assignments"
   ]
  },
  {
   "cell_type": "code",
   "execution_count": 5,
   "metadata": {},
   "outputs": [
    {
     "name": "stdout",
     "output_type": "stream",
     "text": [
      "3 4 5\n",
      "E L I\n"
     ]
    }
   ],
   "source": [
    "x, y, z = (3, 4, 5)\n",
    "a, b, c = 'ELI'\n",
    "print(x, y, z)\n",
    "print(a, b, c)"
   ]
  },
  {
   "cell_type": "code",
   "execution_count": 9,
   "metadata": {},
   "outputs": [
    {
     "name": "stdout",
     "output_type": "stream",
     "text": [
      "2 100\n"
     ]
    }
   ],
   "source": [
    "# Particularly convenient, when used with functions\n",
    "# that return multiple values\n",
    "\n",
    "def find_extreme_divisors(n1, n2):\n",
    "    \"\"\"Assumes that n1 and n2 are positive ints\n",
    "    Returns a tuple containing:\n",
    "        smallest common divisor > 1 \n",
    "        largest common divisor of n1 & n2. \n",
    "    If no common divisor, other than 1, returns (None, None)\"\"\"\n",
    "    min_val, max_val = None, None\n",
    "    for i in range(2, min(n1, n2) + 1):\n",
    "        if n1%i == 0 and n2%i == 0:\n",
    "            if min_val == None:\n",
    "                min_val = i\n",
    "            max_val = i\n",
    "    return min_val, max_val\n",
    "\n",
    "min_divisor, max_divisor = find_extreme_divisors(100, 200)\n",
    "print(min_divisor, max_divisor)"
   ]
  },
  {
   "cell_type": "markdown",
   "metadata": {},
   "source": [
    "### 5.2 Ranges and Iterables"
   ]
  },
  {
   "cell_type": "code",
   "execution_count": 11,
   "metadata": {},
   "outputs": [
    {
     "name": "stdout",
     "output_type": "stream",
     "text": [
      "3.0\n"
     ]
    }
   ],
   "source": [
    "# -*-Finger Exercise -*-\n",
    "# Write an expression that evaluates to the mean of a tuple of numbers.\n",
    "# Use the function sum.\n",
    "\n",
    "t1 = (1, 2, 3, 4, 5)\n",
    "print(sum(t1)/len(t1))"
   ]
  },
  {
   "cell_type": "markdown",
   "metadata": {},
   "source": [
    "### 5.3 Lists and Mutability"
   ]
  },
  {
   "cell_type": "code",
   "execution_count": 1,
   "metadata": {},
   "outputs": [
    {
     "name": "stdout",
     "output_type": "stream",
     "text": [
      "True\n"
     ]
    }
   ],
   "source": [
    "# -*- Finger Exercise -*-\n",
    "# What does the following code print\n",
    "\n",
    "L = [1, 2, 3]\n",
    "L.append(L)\n",
    "print(L is L[-1])"
   ]
  },
  {
   "cell_type": "code",
   "execution_count": 2,
   "metadata": {},
   "outputs": [
    {
     "name": "stdout",
     "output_type": "stream",
     "text": [
      "[3]\n",
      "[3, 4]\n"
     ]
    }
   ],
   "source": [
    "def append_val(val, list_1 = []):\n",
    "    list_1.append(val)\n",
    "    print(list_1)\n",
    "append_val(3)\n",
    "append_val(4)"
   ]
  },
  {
   "cell_type": "code",
   "execution_count": 9,
   "metadata": {},
   "outputs": [
    {
     "name": "stdout",
     "output_type": "stream",
     "text": [
      "[4, 6, 8, 9, 10, 12, 14, 15, 16, 18, 20, 21, 22, 24, 25, 26, 27, 28, 30, 32, 33, 34, 35, 36, 38, 39, 40, 42, 44, 45, 46, 48, 49, 50, 51, 52, 54, 55, 56, 57, 58, 60, 62, 63, 64, 65, 66, 68, 69, 70, 72, 74, 75, 76, 77, 78, 80, 81, 82, 84, 85, 86, 87, 88, 90, 91, 92, 93, 94, 95, 96, 98, 99]\n"
     ]
    }
   ],
   "source": [
    "# -*- Finger Exercise -*-\n",
    "# Write a list comprehension that generates all non-primes between 2 and 100\n",
    "\n",
    "non_primes = [x for x in range(3, 100) if any(x % y == 0 for y in range(2, int(x**0.5)+1))]\n",
    "print(non_primes)"
   ]
  },
  {
   "cell_type": "markdown",
   "metadata": {},
   "source": [
    "### 5.4 Higher Order Operations on Lists\n",
    "A function is called **higher order** if it has an argument, that itself is a function"
   ]
  },
  {
   "cell_type": "code",
   "execution_count": null,
   "metadata": {},
   "outputs": [],
   "source": [
    "def apply_to_each(L, f):\n",
    "    '''Assumes 'L' a list, 'f' a functiom\n",
    "    Mutates 'L' by replacing each element, e, by f(e)'''\n",
    "    for i in range(len(L)):\n",
    "        L[i] = f(L[i])\n",
    "\n",
    "L = [1, -2, 3.33]\n",
    "print('L = ', L)\n",
    "print('Apply abs to each element of L.')\n",
    "apply_to_each(L, abs)\n",
    "print('L =', L)\n",
    "print('Apply int to each element of L.')\n",
    "apply_to_each(L, int)\n",
    "print('L =', L)\n",
    "print('Apply squaring to each element of L.')\n",
    "apply_to_each(L, lambda x: x**2)\n",
    "print('L =', L)"
   ]
  }
 ],
 "metadata": {
  "interpreter": {
   "hash": "5944cb39919a7f27c420bd980a1b63723fb7741450f322fe3459917f703486a8"
  },
  "kernelspec": {
   "display_name": "Python 3.9.7 ('base')",
   "language": "python",
   "name": "python3"
  },
  "language_info": {
   "codemirror_mode": {
    "name": "ipython",
    "version": 3
   },
   "file_extension": ".py",
   "mimetype": "text/x-python",
   "name": "python",
   "nbconvert_exporter": "python",
   "pygments_lexer": "ipython3",
   "version": "3.9.7"
  },
  "orig_nbformat": 4
 },
 "nbformat": 4,
 "nbformat_minor": 2
}
