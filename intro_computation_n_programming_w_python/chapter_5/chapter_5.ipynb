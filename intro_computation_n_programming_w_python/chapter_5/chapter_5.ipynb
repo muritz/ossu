{
 "cells": [
  {
   "cell_type": "markdown",
   "metadata": {},
   "source": [
    "## Chapter 5: Structured Types and Mutability"
   ]
  },
  {
   "cell_type": "markdown",
   "metadata": {},
   "source": [
    "### Chapter 5.1: Tuples\n",
    ">**Tuples** are immutable ordered sequences of elements of different types"
   ]
  },
  {
   "cell_type": "code",
   "execution_count": null,
   "metadata": {},
   "outputs": [],
   "source": [
    "def intersect(t1, t2):\n",
    "    \"\"\"Assumes t1 and t2 are tuples\n",
    "       Returns a tuple containing elements that are in\n",
    "          both t1 and t2\"\"\"\n",
    "    result = ()\n",
    "    for e in t1:\n",
    "        if e in t2:\n",
    "            result += (e,)\n",
    "    return result\n",
    "print(intersect((1, 'a', 2), ('b', 2, 'a')))"
   ]
  },
  {
   "cell_type": "markdown",
   "metadata": {},
   "source": [
    "### Chapter 5.1.1: Multiple Assignments"
   ]
  },
  {
   "cell_type": "code",
   "execution_count": null,
   "metadata": {},
   "outputs": [],
   "source": [
    "x, y, z = (3, 4, 5)\n",
    "a, b, c = 'ELI'\n",
    "print(x, y, z)\n",
    "print(a, b, c)"
   ]
  },
  {
   "cell_type": "code",
   "execution_count": null,
   "metadata": {},
   "outputs": [],
   "source": [
    "# Particularly convenient, when used with functions\n",
    "# that return multiple values\n",
    "\n",
    "def find_extreme_divisors(n1, n2):\n",
    "    \"\"\"Assumes that n1 and n2 are positive ints\n",
    "    Returns a tuple containing:\n",
    "        smallest common divisor > 1 \n",
    "        largest common divisor of n1 & n2. \n",
    "    If no common divisor, other than 1, returns (None, None)\"\"\"\n",
    "    min_val, max_val = None, None\n",
    "    for i in range(2, min(n1, n2) + 1):\n",
    "        if n1%i == 0 and n2%i == 0:\n",
    "            if min_val == None:\n",
    "                min_val = i\n",
    "            max_val = i\n",
    "    return min_val, max_val\n",
    "\n",
    "min_divisor, max_divisor = find_extreme_divisors(100, 200)\n",
    "print(min_divisor, max_divisor)"
   ]
  },
  {
   "cell_type": "markdown",
   "metadata": {},
   "source": [
    "### 5.2 Ranges and Iterables"
   ]
  },
  {
   "cell_type": "code",
   "execution_count": null,
   "metadata": {},
   "outputs": [],
   "source": [
    "# -*-Finger Exercise -*-\n",
    "# Write an expression that evaluates to the mean of a tuple of numbers.\n",
    "# Use the function sum.\n",
    "\n",
    "t1 = (1, 2, 3, 4, 5)\n",
    "print(sum(t1)/len(t1))"
   ]
  },
  {
   "cell_type": "markdown",
   "metadata": {},
   "source": [
    "### 5.3 Lists and Mutability"
   ]
  },
  {
   "cell_type": "code",
   "execution_count": null,
   "metadata": {},
   "outputs": [],
   "source": [
    "# -*- Finger Exercise -*-\n",
    "# What does the following code print\n",
    "\n",
    "L = [1, 2, 3]\n",
    "L.append(L)\n",
    "print(L is L[-1])"
   ]
  },
  {
   "cell_type": "code",
   "execution_count": null,
   "metadata": {},
   "outputs": [],
   "source": [
    "def append_val(val, list_1 = []):\n",
    "    list_1.append(val)\n",
    "    print(list_1)\n",
    "append_val(3)\n",
    "append_val(4)"
   ]
  },
  {
   "cell_type": "code",
   "execution_count": null,
   "metadata": {},
   "outputs": [],
   "source": [
    "# -*- Finger Exercise -*-\n",
    "# Write a list comprehension that generates all non-primes between 2 and 100\n",
    "\n",
    "non_primes = [x for x in range(3, 100) if any(x % y == 0 for y in range(2, int(x**0.5)+1))]\n",
    "print(non_primes)"
   ]
  },
  {
   "cell_type": "markdown",
   "metadata": {},
   "source": [
    "### 5.4 Higher Order Operations on Lists\n",
    "A function is called **higher order** if it has an argument, that itself is a function"
   ]
  },
  {
   "cell_type": "code",
   "execution_count": null,
   "metadata": {},
   "outputs": [],
   "source": [
    "# -*- Figure 5-5 -*-\n",
    "# Applying a function to each element of the list\n",
    "# (More general function is the built-in map-function in Python)\n",
    "\n",
    "def apply_to_each(L, f):\n",
    "    '''Assumes 'L' a list, 'f' a functiom\n",
    "    Mutates 'L' by replacing each element, e, by f(e)'''\n",
    "    for i in range(len(L)):\n",
    "        L[i] = f(L[i])\n",
    "\n",
    "L = [1, -2, 3.33]\n",
    "print('L = ', L)\n",
    "print('Apply abs to each element of L.')\n",
    "apply_to_each(L, abs)\n",
    "print('L =', L)\n",
    "print('Apply int to each element of L.')\n",
    "apply_to_each(L, int)\n",
    "print('L =', L)\n",
    "print('Apply squaring to each element of L.')\n",
    "apply_to_each(L, lambda x: x**2)\n",
    "print('L =', L)"
   ]
  },
  {
   "cell_type": "code",
   "execution_count": null,
   "metadata": {},
   "outputs": [],
   "source": [
    "# -*- Example of equivalent function and list comprehension -*-\n",
    "\n",
    "# Built-In Function\n",
    "x = list(map(str, range(10)))\n",
    "# List Comprehension\n",
    "y = [str(e) for e in range(10)]\n",
    "\n",
    "print(x, '\\n', y)"
   ]
  },
  {
   "cell_type": "code",
   "execution_count": null,
   "metadata": {},
   "outputs": [],
   "source": [
    "# -*- Finger Exercise -*-\n",
    "# Implement a function that takes in two lists\n",
    "# of the same length of numbers and raise each element in\n",
    "# L1 to the power of the corresponding index element in L2\n",
    "\n",
    "def f(L1, L2):\n",
    "    return sum(map(lambda x, y: x**y, L1, L2))\n",
    "\n",
    "L1 = [1, 2, 3]\n",
    "L2 = [2, 2, 2]\n",
    "f(L1, L2)\n"
   ]
  },
  {
   "cell_type": "markdown",
   "metadata": {},
   "source": [
    "### 5.7 Dictionaries"
   ]
  },
  {
   "cell_type": "code",
   "execution_count": 32,
   "metadata": {},
   "outputs": [
    {
     "name": "stdout",
     "output_type": "stream",
     "text": [
      "{'Jan': 1, 'Feb': 2, 'Mar': 3, 'Apr': 4, 'May': 5, 1: 'Jan', 3: 'Mar', 4: 'Apr', 5: 'May'}\n",
      "The third month is Mar\n",
      "Apr and Jan are 3 months apart\n"
     ]
    }
   ],
   "source": [
    "month_numbers = {'Jan':1, 'Feb': 2, 'Mar':3, 'Apr':4, 'May':5,\n",
    "                 3:'Jan', 3:'Feb', 3:'Mar', 4:'Apr', 5:'May'}\n",
    "print(month_numbers)\n",
    "print('The third month is ' + month_numbers[3])\n",
    "dist = month_numbers['Apr'] - month_numbers['Jan']\n",
    "print('Apr and Jan are', dist, 'months apart')"
   ]
  },
  {
   "cell_type": "code",
   "execution_count": null,
   "metadata": {},
   "outputs": [],
   "source": []
  }
 ],
 "metadata": {
  "interpreter": {
   "hash": "5944cb39919a7f27c420bd980a1b63723fb7741450f322fe3459917f703486a8"
  },
  "kernelspec": {
   "display_name": "Python 3.9.7 ('base')",
   "language": "python",
   "name": "python3"
  },
  "language_info": {
   "codemirror_mode": {
    "name": "ipython",
    "version": 3
   },
   "file_extension": ".py",
   "mimetype": "text/x-python",
   "name": "python",
   "nbconvert_exporter": "python",
   "pygments_lexer": "ipython3",
   "version": "3.9.7"
  },
  "orig_nbformat": 4
 },
 "nbformat": 4,
 "nbformat_minor": 2
}
