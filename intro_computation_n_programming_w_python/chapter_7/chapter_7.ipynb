{
 "cells": [
  {
   "cell_type": "markdown",
   "metadata": {},
   "source": [
    "## Modules and Files"
   ]
  },
  {
   "cell_type": "code",
   "execution_count": 15,
   "metadata": {},
   "outputs": [
    {
     "name": "stdout",
     "output_type": "stream",
     "text": [
      "                                  1943\n",
      "\n",
      "      January                   February                   March\n",
      "Mo Tu We Th Fr Sa Su      Mo Tu We Th Fr Sa Su      Mo Tu We Th Fr Sa Su\n",
      "             1  2  3       1  2  3  4  5  6  7       1  2  3  4  5  6  7\n",
      " 4  5  6  7  8  9 10       8  9 10 11 12 13 14       8  9 10 11 12 13 14\n",
      "11 12 13 14 15 16 17      15 16 17 18 19 20 21      15 16 17 18 19 20 21\n",
      "18 19 20 21 22 23 24      22 23 24 25 26 27 28      22 23 24 25 26 27 28\n",
      "25 26 27 28 29 30 31                                29 30 31\n",
      "\n",
      "       April                      May                       June\n",
      "Mo Tu We Th Fr Sa Su      Mo Tu We Th Fr Sa Su      Mo Tu We Th Fr Sa Su\n",
      "          1  2  3  4                      1  2          1  2  3  4  5  6\n",
      " 5  6  7  8  9 10 11       3  4  5  6  7  8  9       7  8  9 10 11 12 13\n",
      "12 13 14 15 16 17 18      10 11 12 13 14 15 16      14 15 16 17 18 19 20\n",
      "19 20 21 22 23 24 25      17 18 19 20 21 22 23      21 22 23 24 25 26 27\n",
      "26 27 28 29 30            24 25 26 27 28 29 30      28 29 30\n",
      "                          31\n",
      "\n",
      "        July                     August                  September\n",
      "Mo Tu We Th Fr Sa Su      Mo Tu We Th Fr Sa Su      Mo Tu We Th Fr Sa Su\n",
      "          1  2  3  4                         1             1  2  3  4  5\n",
      " 5  6  7  8  9 10 11       2  3  4  5  6  7  8       6  7  8  9 10 11 12\n",
      "12 13 14 15 16 17 18       9 10 11 12 13 14 15      13 14 15 16 17 18 19\n",
      "19 20 21 22 23 24 25      16 17 18 19 20 21 22      20 21 22 23 24 25 26\n",
      "26 27 28 29 30 31         23 24 25 26 27 28 29      27 28 29 30\n",
      "                          30 31\n",
      "\n",
      "      October                   November                  December\n",
      "Mo Tu We Th Fr Sa Su      Mo Tu We Th Fr Sa Su      Mo Tu We Th Fr Sa Su\n",
      "             1  2  3       1  2  3  4  5  6  7             1  2  3  4  5\n",
      " 4  5  6  7  8  9 10       8  9 10 11 12 13 14       6  7  8  9 10 11 12\n",
      "11 12 13 14 15 16 17      15 16 17 18 19 20 21      13 14 15 16 17 18 19\n",
      "18 19 20 21 22 23 24      22 23 24 25 26 27 28      20 21 22 23 24 25 26\n",
      "25 26 27 28 29 30 31      29 30                     27 28 29 30 31\n",
      "\n"
     ]
    }
   ],
   "source": [
    "import calendar as cal\n",
    "from datetime import date\n",
    "cal_english = cal.TextCalendar()\n",
    "print(cal_english.formatyear(1943))"
   ]
  },
  {
   "cell_type": "code",
   "execution_count": 81,
   "metadata": {},
   "outputs": [
    {
     "name": "stdout",
     "output_type": "stream",
     "text": [
      "    Oktober 2011\n",
      "Mo Di Mi Do Fr Sa So\n",
      "                1  2\n",
      " 3  4  5  6  7  8  9\n",
      "10 11 12 13 14 15 16\n",
      "17 18 19 20 21 22 23\n",
      "24 25 26 27 28 29 30\n",
      "31\n",
      "\n"
     ]
    }
   ],
   "source": [
    "print(cal.LocaleTextCalendar(locale='de_DE').formatmonth(2011, 10))\n"
   ]
  },
  {
   "cell_type": "code",
   "execution_count": 4,
   "metadata": {},
   "outputs": [
    {
     "name": "stdout",
     "output_type": "stream",
     "text": [
      "Sunday\n"
     ]
    }
   ],
   "source": [
    "# Checking Christmas 2033 (known date)\n",
    "print(cal.day_name[cal.weekday(2033, 12, 25)])"
   ]
  },
  {
   "cell_type": "code",
   "execution_count": 33,
   "metadata": {},
   "outputs": [
    {
     "name": "stdout",
     "output_type": "stream",
     "text": [
      "In 2011 U.S. Thanksgiving was on November 24\n"
     ]
    }
   ],
   "source": [
    "# Checking Thanksgiving (known weekday)\n",
    "def find_thanksgiving(year):\n",
    "    month = cal.monthcalendar(year, 11)\n",
    "    if month[0][cal.THURSDAY] != 0:\n",
    "        thanksgiving = month[3][cal.THURSDAY]\n",
    "    else:\n",
    "        thanksgiving = month[4][cal.THURSDAY]\n",
    "    return thanksgiving\n",
    "print('In 2011', 'U.S. Thanksgiving was on November',\n",
    "      find_thanksgiving(2011))"
   ]
  },
  {
   "cell_type": "code",
   "execution_count": 76,
   "metadata": {},
   "outputs": [
    {
     "name": "stdout",
     "output_type": "stream",
     "text": [
      "In 1941 you have 35 days between thanksgiving and Christmas.\n"
     ]
    }
   ],
   "source": [
    "#-*- Finger Exercise -*-\n",
    "# Calculate the number of days between Thanksgiving and Christmas\n",
    "# in any given year >= 1941\n",
    "\n",
    "# Notebook import redundant for clarity and copy-paste\n",
    "import calendar as cal\n",
    "from datetime import date\n",
    "\n",
    "def shopping_days(year):\n",
    "    if year < 1941:\n",
    "        return f'Please enter a year >= 1941'\n",
    "    # Define date for Christmas\n",
    "    christmas = date(year, 12, 25)\n",
    "    # Calculate the date of Thanksgiving\n",
    "    month = cal.monthcalendar(year, 11)\n",
    "    if month[0][cal.THURSDAY] != 0:\n",
    "        thanksgiving = date(year, 11, month[3][cal.THURSDAY])\n",
    "    else:\n",
    "        thanksgiving = date(year, 11, month[3][cal.THURSDAY])\n",
    "    # Return the desired result\n",
    "    return f'In {year} you have {(christmas - thanksgiving).days} days between thanksgiving and Christmas.'\n",
    "\n",
    "print(shopping_days(1941))\n"
   ]
  },
  {
   "cell_type": "code",
   "execution_count": 82,
   "metadata": {},
   "outputs": [
    {
     "name": "stdout",
     "output_type": "stream",
     "text": [
      "In 2011 you have 76 days between thanksgiving and Christmas in Canada.\n"
     ]
    }
   ],
   "source": [
    "#-*- Finger Exercise 2 -*-\n",
    "# Calculate the number of days between Thanksgiving and Christmas\n",
    "# in any given year >= 1957 for Canada\n",
    "\n",
    "# Notebook import redundant for clarity and copy-paste\n",
    "import calendar as cal\n",
    "from datetime import date\n",
    "\n",
    "def shopping_days(year):\n",
    "    if year < 1958:\n",
    "        return f'Please enter a year >= 1941'\n",
    "    # Define date for Christmas\n",
    "    christmas = date(year, 12, 25)\n",
    "    # Calculate the date of Thanksgiving for Canada\n",
    "    # Since 1958 second Monday in October\n",
    "    month = cal.monthcalendar(year, 10)\n",
    "    if month[0][cal.MONDAY] != 0:\n",
    "        thanksgiving = date(year, 10, month[1][cal.MONDAY])\n",
    "    else:\n",
    "        thanksgiving = date(year, 10, month[2][cal.MONDAY])\n",
    "    # Return the desired result\n",
    "    return f'In {year} you have {(christmas - thanksgiving).days} days between thanksgiving and Christmas in Canada.'\n",
    "\n",
    "print(shopping_days(2011))\n"
   ]
  },
  {
   "cell_type": "markdown",
   "metadata": {},
   "source": [
    "### 7.3 Files"
   ]
  },
  {
   "cell_type": "code",
   "execution_count": 115,
   "metadata": {},
   "outputs": [
    {
     "name": "stdout",
     "output_type": "stream",
     "text": [
      "1\n",
      "1\n",
      "2\n",
      "3\n",
      "5\n",
      "8\n",
      "13\n",
      "21\n",
      "34\n",
      "55\n",
      "89\n"
     ]
    }
   ],
   "source": [
    "# -*- Finger Exercise 1 -*-\n",
    "# Writes the first n numbers of the Fibonacci sequence\n",
    "# to a file on separate lines and prints them afterwards\n",
    "\n",
    "def fib(n):\n",
    "    '''Assumes n int >= 0\n",
    "    Returns Fibonacci of n'''\n",
    "    if n == 0 or n == 1:\n",
    "        return 1\n",
    "    else:\n",
    "        return fib(n-1) + fib(n-2)\n",
    "\n",
    "with open('fibonacci.txt', 'w') as f:\n",
    "    for i in range(11):\n",
    "        f.write(f'{fib(i)}\\n')\n",
    "with open('fibonacci.txt', 'r') as f:\n",
    "    for line in f:\n",
    "        print(line[:-1])"
   ]
  },
  {
   "cell_type": "code",
   "execution_count": null,
   "metadata": {},
   "outputs": [],
   "source": []
  }
 ],
 "metadata": {
  "interpreter": {
   "hash": "5944cb39919a7f27c420bd980a1b63723fb7741450f322fe3459917f703486a8"
  },
  "kernelspec": {
   "display_name": "Python 3.9.7 ('base')",
   "language": "python",
   "name": "python3"
  },
  "language_info": {
   "codemirror_mode": {
    "name": "ipython",
    "version": 3
   },
   "file_extension": ".py",
   "mimetype": "text/x-python",
   "name": "python",
   "nbconvert_exporter": "python",
   "pygments_lexer": "ipython3",
   "version": "3.9.7"
  },
  "orig_nbformat": 4
 },
 "nbformat": 4,
 "nbformat_minor": 2
}
