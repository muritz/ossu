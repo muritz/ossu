{
 "cells": [
  {
   "cell_type": "markdown",
   "metadata": {},
   "source": [
    "## 12 Some Simple Algorithms and Data Structures\n",
    "programmers often increase the **conceptual complexity** of a program in an effort to reduce its **computational complexity**"
   ]
  },
  {
   "cell_type": "code",
   "execution_count": 3,
   "metadata": {},
   "outputs": [],
   "source": [
    "# Creating a large ordered list\n",
    "\n",
    "L = [i for i in range(100000)]"
   ]
  },
  {
   "cell_type": "code",
   "execution_count": 7,
   "metadata": {},
   "outputs": [
    {
     "data": {
      "text/plain": [
       "True"
      ]
     },
     "execution_count": 7,
     "metadata": {},
     "output_type": "execute_result"
    }
   ],
   "source": [
    "# -*- Figure 12-2 -*-\n",
    "# Binary Search (Bisection Search exploiting assumptions)\n",
    "\n",
    "def search(L, e):\n",
    "    \"\"\"Assumes L is a list, the elements of which are in ascending\n",
    "    order.\n",
    "    Returns True if e is in L and False otherwise\n",
    "    \"\"\"\n",
    "    for i in range(len(L)):\n",
    "        if L[i] == e:\n",
    "            return True\n",
    "        if L[i] > e:\n",
    "            return False\n",
    "    return False\n",
    "\n",
    "search(L, 99999)"
   ]
  },
  {
   "cell_type": "code",
   "execution_count": 10,
   "metadata": {},
   "outputs": [
    {
     "data": {
      "text/plain": [
       "False"
      ]
     },
     "execution_count": 10,
     "metadata": {},
     "output_type": "execute_result"
    }
   ],
   "source": [
    "# -*- Figure 12-3 -*-\n",
    "# Recursive Binary Search\n",
    "\n",
    "def search(L, e):\n",
    "    \"\"\"Assumes L is alist, the elemnts of which are \n",
    "    in ascending order.\n",
    "    Returns True if e is in L, False otherwise\n",
    "    \"\"\"\n",
    "    def bin_search(L, e, low, high):\n",
    "        # Decrements high -low\n",
    "        if high == low:\n",
    "            return L[low] == e\n",
    "        mid = (low + high) // 2\n",
    "        if L[mid] == e:\n",
    "            return True\n",
    "        elif L[mid] > e:\n",
    "            if low == mid: # nothing left to search\n",
    "                return False\n",
    "            else:\n",
    "                return bin_search(L, e, low, mid - 1)\n",
    "        else:\n",
    "            return bin_search(L, e, mid + 1, high)\n",
    "\n",
    "    if len(L) == 0:\n",
    "        return False\n",
    "    else:\n",
    "        return bin_search(L, e, 0, len(L) - 1)\n",
    "\n",
    "search(L, 1000001)\n"
   ]
  },
  {
   "cell_type": "code",
   "execution_count": 4,
   "metadata": {},
   "outputs": [
    {
     "name": "stdout",
     "output_type": "stream",
     "text": [
      "[2, 10, 12, 30, 41, 50]\n"
     ]
    }
   ],
   "source": [
    "# -*- Figure 12-4 -*-\n",
    "# Selection Sort\n",
    "\n",
    "def sel_sort(L):\n",
    "    \"\"\"Assumes that L is a list of elements that can be\n",
    "        compared using >.\n",
    "    Sorts L in ascendiing order\"\"\"\n",
    "    suffix_start = 0\n",
    "    while suffix_start != len(L):\n",
    "        # look at each element in suffix\n",
    "        for i in range(suffix_start, len(L)):\n",
    "            if L[i] < L[suffix_start]:\n",
    "                #swap position of elements\n",
    "                L[suffix_start], L[i] = L[i], L[suffix_start]\n",
    "        suffix_start += 1\n",
    "    return(L)\n",
    "\n",
    "L1 = [30, 41, 50, 10, 12, 2]\n",
    "print(sel_sort(L1))"
   ]
  },
  {
   "cell_type": "code",
   "execution_count": 16,
   "metadata": {},
   "outputs": [
    {
     "name": "stdout",
     "output_type": "stream",
     "text": [
      "[(1, 2), (1, 4), (3, 5)] [(3, 5), (1, 4), (1, 2)]\n"
     ]
    }
   ],
   "source": [
    "\n",
    "# -*- Figure 12-5 -*-\n",
    "# Merge Sort\n",
    "\n",
    "def merge(left, right, compare):\n",
    "    \"\"\"Assumes left and right are sorted lists and\n",
    "         compare defines an ordering on the elements.\n",
    "       Returns a new sorted (by compare) list containing the\n",
    "         same elements as (left + right) would contain.\"\"\"\n",
    "    \n",
    "    result = []\n",
    "    i,j = 0, 0\n",
    "    while i < len(left) and j < len(right):\n",
    "        if compare(left[i], right[j]):\n",
    "            result.append(left[i])\n",
    "            i += 1\n",
    "        else:\n",
    "            result.append(right[j])\n",
    "            j += 1\n",
    "    while (i < len(left)):\n",
    "        result.append(left[i])\n",
    "        i += 1\n",
    "    while (j < len(right)):\n",
    "        result.append(right[j])\n",
    "        j += 1\n",
    "    return result\n",
    "\n",
    "def merge_sort(L, compare = lambda x, y: x < y):\n",
    "    \"\"\"Assumes L is a list, compare defines an ordering\n",
    "         on elements of L\n",
    "       Returns a new sorted list with the same elements as L\"\"\"\n",
    "    if len(L) < 2:\n",
    "        return L[:]\n",
    "    else:\n",
    "        middle = len(L)//2\n",
    "        left = merge_sort(L[:middle], compare)\n",
    "        right = merge_sort(L[middle:], compare)\n",
    "        return merge(left, right, compare)\n",
    "\n",
    "print(merge_sort(L1), merge_sort(L1, lambda x, y: x > y))"
   ]
  },
  {
   "cell_type": "code",
   "execution_count": 17,
   "metadata": {},
   "outputs": [
    {
     "name": "stdout",
     "output_type": "stream",
     "text": [
      "[(1, 2), (1, 4), (3, 5)] [(3, 5), (1, 4), (1, 2)]\n"
     ]
    }
   ],
   "source": [
    "# -*- Finger Exercise-*-\n",
    "# Sort a list of tuples by their sums with merge sort\n",
    "\n",
    "L2 = ((1, 2), (3, 5), (1,4))\n",
    "print(merge_sort(L2), merge_sort(L2, lambda x, y: x > y))"
   ]
  },
  {
   "cell_type": "code",
   "execution_count": 1,
   "metadata": {},
   "outputs": [
    {
     "name": "stdout",
     "output_type": "stream",
     "text": [
      "[2, 3, 5]\n",
      "[3, 5, 2]\n",
      "[2, 3, 5]\n",
      "['a', 'b', 'c']\n"
     ]
    },
    {
     "ename": "AttributeError",
     "evalue": "'dict' object has no attribute 'sort'",
     "output_type": "error",
     "traceback": [
      "\u001b[0;31m---------------------------------------------------------------------------\u001b[0m",
      "\u001b[0;31mAttributeError\u001b[0m                            Traceback (most recent call last)",
      "\u001b[0;32m/var/folders/k6/w1t13v7x46v97m5jxynpppxw0000gp/T/ipykernel_83359/1864467507.py\u001b[0m in \u001b[0;36m<module>\u001b[0;34m\u001b[0m\n\u001b[1;32m      6\u001b[0m \u001b[0mprint\u001b[0m\u001b[0;34m(\u001b[0m\u001b[0mL\u001b[0m\u001b[0;34m)\u001b[0m\u001b[0;34m\u001b[0m\u001b[0;34m\u001b[0m\u001b[0m\n\u001b[1;32m      7\u001b[0m \u001b[0mprint\u001b[0m\u001b[0;34m(\u001b[0m\u001b[0msorted\u001b[0m\u001b[0;34m(\u001b[0m\u001b[0mD\u001b[0m\u001b[0;34m)\u001b[0m\u001b[0;34m)\u001b[0m\u001b[0;34m\u001b[0m\u001b[0;34m\u001b[0m\u001b[0m\n\u001b[0;32m----> 8\u001b[0;31m \u001b[0mD\u001b[0m\u001b[0;34m.\u001b[0m\u001b[0msort\u001b[0m\u001b[0;34m(\u001b[0m\u001b[0;34m)\u001b[0m\u001b[0;34m\u001b[0m\u001b[0;34m\u001b[0m\u001b[0m\n\u001b[0m",
      "\u001b[0;31mAttributeError\u001b[0m: 'dict' object has no attribute 'sort'"
     ]
    }
   ],
   "source": [
    "L = [3,5,2]\n",
    "D = {'a':12, 'c':5, 'b':'dog'}\n",
    "print(sorted(L))\n",
    "print(L)\n",
    "L.sort()\n",
    "print(L)\n",
    "print(sorted(D))    # gives back a list with the sorted keys\n",
    "D.sort()            # 'dict' object has no attribute 'sort'"
   ]
  },
  {
   "cell_type": "code",
   "execution_count": 5,
   "metadata": {},
   "outputs": [
    {
     "name": "stdout",
     "output_type": "stream",
     "text": [
      "The value of the Int_dict is:\n",
      "{41735:0,97631:11,46036:19,55846:1,4219:17,39053:8,85123:12,17940:6,73447:2,51297:4,48050:15,57536:18,8119:7,74062:14,29949:16,86594:9,52764:10,74048:13,71142:5,22625:3}\n"
     ]
    }
   ],
   "source": [
    "# -*- Figure 12-7 -*-\n",
    "# Implementing dictionaries using hashing\n",
    "\n",
    "class Int_dict(object):\n",
    "    \"\"\"A dictionary with integer keys\"\"\"\n",
    "    \n",
    "    def __init__(self, num_buckets):\n",
    "        \"\"\"Create an empty dictionary\"\"\"\n",
    "        self.buckets = []\n",
    "        self.num_buckets = num_buckets\n",
    "        for i in range(num_buckets):\n",
    "            self.buckets.append([])\n",
    "\n",
    "    def add_entry(self, key, dict_val):\n",
    "        \"\"\"Assumes key and int. Adds an entry\"\"\"\n",
    "        hash_bucket = self.buckets[key % self.num_buckets]\n",
    "        for i in range(len(hash_bucket)):\n",
    "            if hash_bucket[i][0] == key:\n",
    "                hash_bucket[i] = (key, dict_val)\n",
    "                return\n",
    "        hash_bucket.append((key, dict_val))\n",
    "    \n",
    "    def get_value(self, key):\n",
    "        \"\"\"Assumes key an int.\n",
    "            Returns value associated with key\"\"\"\n",
    "        hash_bucket = self.buckets[key % self.num_buckets]\n",
    "        for e in hash_bucket:\n",
    "            if e[0] == key:\n",
    "                return e[1]\n",
    "        return None\n",
    "\n",
    "    def __str__(self):\n",
    "        result = '{'\n",
    "        for b in self.buckets:\n",
    "            for e in b:\n",
    "                result += f'{e[0]}:{e[1]},'\n",
    "        return result[:-1] + '}' #result[:-1] omits the last coma\n",
    "    "
   ]
  },
  {
   "cell_type": "code",
   "execution_count": 6,
   "metadata": {},
   "outputs": [
    {
     "name": "stdout",
     "output_type": "stream",
     "text": [
      "The value of the Int_dict is:\n",
      "{31892:0,47447:2,55930:8,88179:13,77899:14,79039:3,76474:11,83989:6,77513:7,17860:12,11723:19,75696:5,9719:15,60022:16,47561:18,23830:4,58784:1,21129:9,47360:17,64514:10}\n"
     ]
    }
   ],
   "source": [
    "import random\n",
    "D = Int_dict(17)\n",
    "for i in range(20):\n",
    "    #choose a random int in the range 0 to 10**5 - 1\n",
    "    key = random.choice(range(10**5))\n",
    "    D.add_entry(key, i)\n",
    "print('The value of the Int_dict is:')\n",
    "print(D)"
   ]
  },
  {
   "cell_type": "code",
   "execution_count": 7,
   "metadata": {},
   "outputs": [
    {
     "name": "stdout",
     "output_type": "stream",
     "text": [
      "The buckets are:\n",
      "   [(31892, 0), (47447, 2), (55930, 8), (88179, 13)]\n",
      "   []\n",
      "   []\n",
      "   []\n",
      "   []\n",
      "   [(77899, 14)]\n",
      "   [(79039, 3)]\n",
      "   []\n",
      "   [(76474, 11)]\n",
      "   [(83989, 6)]\n",
      "   [(77513, 7), (17860, 12), (11723, 19)]\n",
      "   []\n",
      "   [(75696, 5), (9719, 15), (60022, 16), (47561, 18)]\n",
      "   [(23830, 4)]\n",
      "   []\n",
      "   [(58784, 1), (21129, 9), (47360, 17)]\n",
      "   [(64514, 10)]\n"
     ]
    }
   ],
   "source": [
    "print('The buckets are:')\n",
    "for hash_bucket in D.buckets: #violates abstraction barrier\n",
    "    print('  ', hash_bucket)"
   ]
  }
 ],
 "metadata": {
  "kernelspec": {
   "display_name": "Python 3.9.7 ('base')",
   "language": "python",
   "name": "python3"
  },
  "language_info": {
   "codemirror_mode": {
    "name": "ipython",
    "version": 3
   },
   "file_extension": ".py",
   "mimetype": "text/x-python",
   "name": "python",
   "nbconvert_exporter": "python",
   "pygments_lexer": "ipython3",
   "version": "3.9.7"
  },
  "orig_nbformat": 4,
  "vscode": {
   "interpreter": {
    "hash": "5944cb39919a7f27c420bd980a1b63723fb7741450f322fe3459917f703486a8"
   }
  }
 },
 "nbformat": 4,
 "nbformat_minor": 2
}
