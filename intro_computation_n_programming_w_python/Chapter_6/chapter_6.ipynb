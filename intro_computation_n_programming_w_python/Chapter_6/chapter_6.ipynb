{
 "cells": [
  {
   "cell_type": "markdown",
   "metadata": {},
   "source": [
    "## Chapter 6: Recursion and Global Variables"
   ]
  },
  {
   "cell_type": "code",
   "execution_count": 1,
   "metadata": {},
   "outputs": [
    {
     "name": "stdout",
     "output_type": "stream",
     "text": [
      "120\n",
      "120\n"
     ]
    }
   ],
   "source": [
    "# -*- Figure 6-1 -*-\n",
    "# Calculating the factorial\n",
    "\n",
    "# Iterative approach\n",
    "def fact_iter(n):\n",
    "    '''Assumes n an int > 0\n",
    "    returns n!'''\n",
    "    result = 1\n",
    "    for i in range(1, n+1):\n",
    "        result *=i\n",
    "    return result\n",
    "\n",
    "print(fact_iter(5))\n",
    "\n",
    "# Recursion\n",
    "def fact_rec(n):\n",
    "    '''Assumes n an int > 0\n",
    "    returns n!'''\n",
    "    if n == 1:\n",
    "        return n\n",
    "    else:\n",
    "        return n * fact_rec(n-1)\n",
    "\n",
    "print(fact_rec(5))\n"
   ]
  },
  {
   "cell_type": "code",
   "execution_count": 19,
   "metadata": {},
   "outputs": [
    {
     "data": {
      "text/plain": [
       "2.7178571428571425"
      ]
     },
     "execution_count": 19,
     "metadata": {},
     "output_type": "execute_result"
    }
   ],
   "source": [
    "# -*- Finger Exercise -*-\n",
    "# Calculate the harmonic sum of an integer, n > 0,\n",
    "# 1 + (1/2) + .... + (1/n)\n",
    "\n",
    "def harmonic_rec(n):\n",
    "    '''Calculates the harmonic sum of an int n > 0 as\n",
    "    1 + (1/2) + .... + (1/n)'''\n",
    "    if n == 1:\n",
    "        return n\n",
    "    else:\n",
    "        return (1 / n) + harmonic_rec(n - 1)\n",
    "\n",
    "harmonic_rec(8)\n"
   ]
  },
  {
   "cell_type": "code",
   "execution_count": 21,
   "metadata": {},
   "outputs": [
    {
     "name": "stdout",
     "output_type": "stream",
     "text": [
      "fib of 0 = 1\n",
      "fib of 1 = 1\n",
      "fib of 2 = 2\n",
      "fib of 3 = 3\n",
      "fib of 4 = 5\n",
      "fib of 5 = 8\n"
     ]
    }
   ],
   "source": [
    "# -*- Figure 6.3 -*-\n",
    "# Recursive implementation of Fibonacci sequence\n",
    "# (n+2) = (n+1) + n\n",
    "\n",
    "def fib(n):\n",
    "    '''Assumes n int >= 0\n",
    "    Returns Fibonacci of n'''\n",
    "    if n == 0 or n == 1:\n",
    "        return 1\n",
    "    else:\n",
    "        return fib(n-1) + fib(n-2)\n",
    "\n",
    "def test_fib(n):\n",
    "    for i in range(n+1):\n",
    "        print('fib of', i, '=', fib(i))\n",
    "\n",
    "test_fib(5)"
   ]
  },
  {
   "cell_type": "code",
   "execution_count": 25,
   "metadata": {},
   "outputs": [
    {
     "name": "stdout",
     "output_type": "stream",
     "text": [
      "Try dogGod\n",
      "True\n",
      "Try doGood\n",
      "False\n"
     ]
    }
   ],
   "source": [
    "#-*- Figure 6.4 -*-\n",
    "# Checking if a string is a Palindrome\n",
    "# Example of divide-and-conquer with two helper functions\n",
    "import string\n",
    "\n",
    "def is_palindrome(s):\n",
    "    '''Assumes s is a str\n",
    "    Returns True if letters in s form a palindrome;\n",
    "    False otherwise. Non-Letters and capitalization are ignored'''\n",
    "\n",
    "    # Helper function\n",
    "    # Remove punctuation, strip whitespace, make lowercase\n",
    "    def to_chars(s):\n",
    "        letters = s.translate(str.maketrans('', '', string.punctuation)).strip().lower()\n",
    "        return letters\n",
    "\n",
    "    # Helper function\n",
    "    # Recursive check if palindrome\n",
    "    def is_pal(s):\n",
    "        if len(s) <= 1:\n",
    "            return True\n",
    "        else:\n",
    "            return s[0] == s[-1] and is_pal(s[1:-1])\n",
    "\n",
    "    return is_pal(to_chars(s))\n",
    "\n",
    "is_palindrome(\",.'!Kavak\")\n",
    "print('Try dogGod')\n",
    "print(is_palindrome('dogGod'))\n",
    "print('Try doGood')\n",
    "print(is_palindrome('doGood'))"
   ]
  },
  {
   "cell_type": "code",
   "execution_count": 28,
   "metadata": {},
   "outputs": [
    {
     "name": "stdout",
     "output_type": "stream",
     "text": [
      "fib of 0 = 1\n",
      "fib called 1 times\n",
      "fib of 1 = 1\n",
      "fib called 1 times\n",
      "fib of 2 = 2\n",
      "fib called 3 times\n",
      "fib of 3 = 3\n",
      "fib called 5 times\n",
      "fib of 4 = 5\n",
      "fib called 9 times\n",
      "fib of 5 = 8\n",
      "fib called 15 times\n",
      "fib of 6 = 13\n",
      "fib called 25 times\n"
     ]
    }
   ],
   "source": [
    "# -*- Figure 6.6 -*-\n",
    "# Recursive implementation of Fibonacci sequence\n",
    "# (n+2) = (n+1) + n\n",
    "# INCLUDING GLOBAL VARIABLE FOR COUNTER\n",
    "\n",
    "def fib(n):\n",
    "    '''Assumes n int >= 0\n",
    "    Returns Fibonacci of n'''\n",
    "    global num_fib_calls\n",
    "    num_fib_calls += 1\n",
    "    if n == 0 or n == 1:\n",
    "        return 1\n",
    "    else:\n",
    "        return fib(n-1) + fib(n-2)\n",
    "\n",
    "def test_fib(n):\n",
    "    for i in range(n+1):\n",
    "        global num_fib_calls\n",
    "        num_fib_calls = 0\n",
    "        print(f'fib of {i} = {fib(i)}')\n",
    "        print(f'fib called {num_fib_calls} times')\n",
    "\n",
    "test_fib(6)"
   ]
  }
 ],
 "metadata": {
  "interpreter": {
   "hash": "5944cb39919a7f27c420bd980a1b63723fb7741450f322fe3459917f703486a8"
  },
  "kernelspec": {
   "display_name": "Python 3.9.7 ('base')",
   "language": "python",
   "name": "python3"
  },
  "language_info": {
   "codemirror_mode": {
    "name": "ipython",
    "version": 3
   },
   "file_extension": ".py",
   "mimetype": "text/x-python",
   "name": "python",
   "nbconvert_exporter": "python",
   "pygments_lexer": "ipython3",
   "version": "3.9.7"
  },
  "orig_nbformat": 4
 },
 "nbformat": 4,
 "nbformat_minor": 2
}
