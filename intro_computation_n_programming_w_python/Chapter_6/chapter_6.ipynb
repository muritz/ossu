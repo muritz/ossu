{
 "cells": [
  {
   "cell_type": "markdown",
   "metadata": {},
   "source": [
    "## Chapter 6: Recursion and Global Variables"
   ]
  },
  {
   "cell_type": "code",
   "execution_count": 1,
   "metadata": {},
   "outputs": [
    {
     "name": "stdout",
     "output_type": "stream",
     "text": [
      "120\n",
      "120\n"
     ]
    }
   ],
   "source": [
    "# -*- Figure 6-1 -*-\n",
    "# Calculating the factorial\n",
    "\n",
    "# Iterative approach\n",
    "def fact_iter(n):\n",
    "    '''Assumes n an int > 0\n",
    "    returns n!'''\n",
    "    result = 1\n",
    "    for i in range(1, n+1):\n",
    "        result *=i\n",
    "    return result\n",
    "\n",
    "print(fact_iter(5))\n",
    "\n",
    "# Recursion\n",
    "def fact_rec(n):\n",
    "    '''Assumes n an int > 0\n",
    "    returns n!'''\n",
    "    if n == 1:\n",
    "        return n\n",
    "    else:\n",
    "        return n * fact_rec(n-1)\n",
    "\n",
    "print(fact_rec(5))\n"
   ]
  },
  {
   "cell_type": "code",
   "execution_count": 19,
   "metadata": {},
   "outputs": [
    {
     "data": {
      "text/plain": [
       "2.7178571428571425"
      ]
     },
     "execution_count": 19,
     "metadata": {},
     "output_type": "execute_result"
    }
   ],
   "source": [
    "# -*- Finger Exercise -*-\n",
    "# Calculate the harmonic sum of an integer, n > 0,\n",
    "# 1 + (1/2) + .... + (1/n)\n",
    "\n",
    "def harmonic_rec(n):\n",
    "    '''Calculates the harmonic sum of an int n > 0 as\n",
    "    1 + (1/2) + .... + (1/n)'''\n",
    "    if n == 1:\n",
    "        return n\n",
    "    else:\n",
    "        return (1 / n) + harmonic_rec(n - 1)\n",
    "\n",
    "harmonic_rec(8)\n"
   ]
  },
  {
   "cell_type": "code",
   "execution_count": 21,
   "metadata": {},
   "outputs": [
    {
     "name": "stdout",
     "output_type": "stream",
     "text": [
      "fib of 0 = 1\n",
      "fib of 1 = 1\n",
      "fib of 2 = 2\n",
      "fib of 3 = 3\n",
      "fib of 4 = 5\n",
      "fib of 5 = 8\n"
     ]
    }
   ],
   "source": [
    "# -*- Figure 6.3 -*-\n",
    "# Recursive implementation of Fibonacci sequence\n",
    "# (n+2) = (n+1) + n\n",
    "\n",
    "def fib(n):\n",
    "    '''Assumes n int >= 0\n",
    "    Returns Fibonacci of n'''\n",
    "    if n == 0 or n == 1:\n",
    "        return 1\n",
    "    else:\n",
    "        return fib(n-1) + fib(n-2)\n",
    "\n",
    "def test_fib(n):\n",
    "    for i in range(n+1):\n",
    "        print('fib of', i, '=', fib(i))\n",
    "\n",
    "test_fib(5)"
   ]
  }
 ],
 "metadata": {
  "interpreter": {
   "hash": "5944cb39919a7f27c420bd980a1b63723fb7741450f322fe3459917f703486a8"
  },
  "kernelspec": {
   "display_name": "Python 3.9.7 ('base')",
   "language": "python",
   "name": "python3"
  },
  "language_info": {
   "codemirror_mode": {
    "name": "ipython",
    "version": 3
   },
   "file_extension": ".py",
   "mimetype": "text/x-python",
   "name": "python",
   "nbconvert_exporter": "python",
   "pygments_lexer": "ipython3",
   "version": "3.9.7"
  },
  "orig_nbformat": 4
 },
 "nbformat": 4,
 "nbformat_minor": 2
}
