{
 "cells": [
  {
   "cell_type": "markdown",
   "metadata": {},
   "source": [
    "## Chapter 3: Some simple numerical programs\n",
    "### Chapter 3.1: Approximate solutions and bisection search"
   ]
  },
  {
   "cell_type": "code",
   "execution_count": 9,
   "metadata": {},
   "outputs": [
    {
     "name": "stdout",
     "output_type": "stream",
     "text": [
      "number of guesses = 49990\n",
      "4.999000000001688 is close to square root of 25.0\n"
     ]
    }
   ],
   "source": [
    "# -*- Figure 3.4 -*-\n",
    "# Prints an approximation of the square root of x\n",
    "# using exhaustive enumeration\n",
    "\n",
    "x = float(input('Enter a value: '))\n",
    "\n",
    "epsilon = 0.01\n",
    "step = epsilon ** 2\n",
    "num_guesses = 0\n",
    "ans = 0.0 # incremented approximation of the cube root\n",
    "#while abs(ans**2 - x) >= epsilon and ans * ans <= x: \n",
    "#(fails for 0 < x < 1)\n",
    "while abs(ans**2 - x) >= epsilon and ans * ans <= x:\n",
    "    ans += step\n",
    "    num_guesses += 1\n",
    "print('number of guesses =', num_guesses)\n",
    "# -----------------------------------------------------\n",
    "# Only relevant for while loop that is commented out\n",
    "if abs(ans**2 -x) >= epsilon:\n",
    "    print('Failed on square root of', x)\n",
    "#------------------------------------------------------\n",
    "else:\n",
    "    print(ans, 'is close to square root of', x)"
   ]
  }
 ],
 "metadata": {
  "interpreter": {
   "hash": "5944cb39919a7f27c420bd980a1b63723fb7741450f322fe3459917f703486a8"
  },
  "kernelspec": {
   "display_name": "Python 3.9.7 ('base')",
   "language": "python",
   "name": "python3"
  },
  "language_info": {
   "codemirror_mode": {
    "name": "ipython",
    "version": 3
   },
   "file_extension": ".py",
   "mimetype": "text/x-python",
   "name": "python",
   "nbconvert_exporter": "python",
   "pygments_lexer": "ipython3",
   "version": "3.9.7"
  },
  "orig_nbformat": 4
 },
 "nbformat": 4,
 "nbformat_minor": 2
}
