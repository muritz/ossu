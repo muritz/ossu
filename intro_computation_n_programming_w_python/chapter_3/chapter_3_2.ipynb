{
 "cells": [
  {
   "cell_type": "markdown",
   "metadata": {},
   "source": [
    "## Chapter 3: Some simple numerical programs\n",
    "### Chapter 3.1: Approximate solutions and bisection search\n",
    "### Successive approximation with bisection search"
   ]
  },
  {
   "cell_type": "code",
   "execution_count": null,
   "metadata": {},
   "outputs": [],
   "source": [
    "# -*- Figure 3.4 -*-\n",
    "# Prints an approximation of the square root of x\n",
    "# using exhaustive enumeration\n",
    "# very slow algorithm\n",
    "\n",
    "x = float(input('Enter a value: '))\n",
    "\n",
    "epsilon = 0.01\n",
    "step = epsilon ** 2\n",
    "num_guesses = 0\n",
    "ans = 0.0 # incremented approximation of the cube root\n",
    "#while abs(ans**2 - x) >= epsilon and ans * ans <= x: \n",
    "#(fails for 0 < x < 1)\n",
    "while abs(ans**2 - x) >= epsilon and ans * ans <= x:\n",
    "    ans += step\n",
    "    num_guesses += 1\n",
    "print('number of guesses =', num_guesses)\n",
    "if abs(ans**2 -x) >= epsilon:\n",
    "    print('Failed on square root of', x)\n",
    "else:\n",
    "    print(ans, 'is close to square root of', x)"
   ]
  },
  {
   "cell_type": "code",
   "execution_count": null,
   "metadata": {},
   "outputs": [],
   "source": [
    "# -* Figure 3.5 -*-\n",
    "# Using bisection search to approximate square root\n",
    "\n",
    "y = float(input('Enter a value: '))\n",
    "x = abs(y)\n",
    "\n",
    "epsilon = 0.01\n",
    "num_guesses = 0\n",
    "low = 0\n",
    "high = x\n",
    "ans = (high + low)/2\n",
    "while abs(ans**2 - x) >= epsilon:\n",
    "    print('low =', low, 'high =', high, 'ans =', ans)\n",
    "    num_guesses += 1\n",
    "    if ans**2 < x:\n",
    "        low = ans\n",
    "    else:\n",
    "        high = ans\n",
    "    ans = (high + low)/2\n",
    "print('number of guesses =', num_guesses)\n",
    "print(ans, 'is close to square root of', y)\n"
   ]
  },
  {
   "cell_type": "code",
   "execution_count": null,
   "metadata": {},
   "outputs": [],
   "source": [
    "# -* Figure 3.6 -*-\n",
    "# Using bisection search to approximate log base 2 of x\n",
    "\n",
    "x = float(input('Enter a value: '))\n",
    "\n",
    "epsilon = 0.01\n",
    "# Find lower bound on ans\n",
    "lower_bound = 0\n",
    "while 2**lower_bound < x:\n",
    "    lower_bound += 1\n",
    "low = lower_bound - 1\n",
    "high = lower_bound + 1\n",
    "#perform bisection search\n",
    "ans = (high + low)/2\n",
    "while abs(2**ans - x) >= epsilon:\n",
    "    if 2**ans < x:\n",
    "        low = ans\n",
    "    else:\n",
    "        high = ans\n",
    "    ans = (high + low)/2\n",
    "print(ans, 'is close to the log base 2 of', x)"
   ]
  },
  {
   "cell_type": "markdown",
   "metadata": {},
   "source": [
    "### Finger exercise\n",
    "The Empire State Building is 102 stories high. A man wanted to know the highest floor from which he could drop an egg without the egg breaking. He proposed to drop an egg from the top floor. If it broke, he would go down a floor, and try it again. He would do this until the egg did not break. At worst, this method requires 102 eggs. Implement a method that at worst uses seven eggs."
   ]
  },
  {
   "cell_type": "code",
   "execution_count": 25,
   "metadata": {},
   "outputs": [
    {
     "name": "stdout",
     "output_type": "stream",
     "text": [
      "low = 0    high = 102    ans = 51.0\n",
      "low = 0    high = 51.0    ans = 25.5\n",
      "low = 0    high = 25.5    ans = 12.75\n",
      "low = 12.75    high = 25.5    ans = 19.125\n",
      "low = 19.125    high = 25.5    ans = 22.3125\n",
      "low = 22.3125    high = 25.5    ans = 23.90625\n",
      "low = 23.90625    high = 25.5    ans = 24.703125\n",
      "number of guesses = 7\n"
     ]
    }
   ],
   "source": [
    "# -*- Chapter 3.2 Bisection Search -*-\n",
    "# Finger exercise: Empire State Buildung Page 79\n",
    "\n",
    "num_stories = int(input(\"Enter number of stories of the building\"))\n",
    "\n",
    "epsilon = 1.0\n",
    "num_guesses = 0\n",
    "low = 0\n",
    "high = num_stories\n",
    "ans = (high + low) / 2\n",
    "while (high - low) > epsilon:\n",
    "    print(f'low = {low}    high = {high}    ans = {ans}')\n",
    "    num_guesses += 1\n",
    "    if ans < x:\n",
    "        low = ans\n",
    "    else:\n",
    "        high = ans\n",
    "    ans = (high + low) / 2\n",
    "print('number of guesses =', num_guesses)\n"
   ]
  },
  {
   "cell_type": "markdown",
   "metadata": {},
   "source": []
  }
 ],
 "metadata": {
  "interpreter": {
   "hash": "5944cb39919a7f27c420bd980a1b63723fb7741450f322fe3459917f703486a8"
  },
  "kernelspec": {
   "display_name": "Python 3.9.7 ('base')",
   "language": "python",
   "name": "python3"
  },
  "language_info": {
   "codemirror_mode": {
    "name": "ipython",
    "version": 3
   },
   "file_extension": ".py",
   "mimetype": "text/x-python",
   "name": "python",
   "nbconvert_exporter": "python",
   "pygments_lexer": "ipython3",
   "version": "3.9.7"
  },
  "orig_nbformat": 4
 },
 "nbformat": 4,
 "nbformat_minor": 2
}
