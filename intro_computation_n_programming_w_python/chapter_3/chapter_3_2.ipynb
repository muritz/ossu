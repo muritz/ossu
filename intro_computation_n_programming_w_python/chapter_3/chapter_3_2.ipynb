{
 "cells": [
  {
   "cell_type": "markdown",
   "metadata": {},
   "source": [
    "## Chapter 3: Some simple numerical programs\n",
    "### Chapter 3.1: Approximate solutions and bisection search\n",
    "### Successive approximation with bisection search"
   ]
  },
  {
   "cell_type": "code",
   "execution_count": 16,
   "metadata": {},
   "outputs": [
    {
     "name": "stdout",
     "output_type": "stream",
     "text": [
      "number of guesses = 49990\n",
      "4.999000000001688 is close to square root of 25.0\n"
     ]
    }
   ],
   "source": [
    "# -*- Figure 3.4 -*-\n",
    "# Prints an approximation of the square root of x\n",
    "# using exhaustive enumeration\n",
    "# very slow algorithm\n",
    "\n",
    "x = float(input('Enter a value: '))\n",
    "\n",
    "epsilon = 0.01\n",
    "step = epsilon ** 2\n",
    "num_guesses = 0\n",
    "ans = 0.0 # incremented approximation of the cube root\n",
    "#while abs(ans**2 - x) >= epsilon and ans * ans <= x: \n",
    "#(fails for 0 < x < 1)\n",
    "while abs(ans**2 - x) >= epsilon and ans * ans <= x:\n",
    "    ans += step\n",
    "    num_guesses += 1\n",
    "print('number of guesses =', num_guesses)\n",
    "if abs(ans**2 -x) >= epsilon:\n",
    "    print('Failed on square root of', x)\n",
    "else:\n",
    "    print(ans, 'is close to square root of', x)"
   ]
  },
  {
   "cell_type": "code",
   "execution_count": 18,
   "metadata": {},
   "outputs": [
    {
     "name": "stdout",
     "output_type": "stream",
     "text": [
      "low = 0 high = 123456.0 ans = 61728.0\n",
      "low = 0 high = 61728.0 ans = 30864.0\n",
      "low = 0 high = 30864.0 ans = 15432.0\n",
      "low = 0 high = 15432.0 ans = 7716.0\n",
      "low = 0 high = 7716.0 ans = 3858.0\n",
      "low = 0 high = 3858.0 ans = 1929.0\n",
      "low = 0 high = 1929.0 ans = 964.5\n",
      "low = 0 high = 964.5 ans = 482.25\n",
      "low = 0 high = 482.25 ans = 241.125\n",
      "low = 241.125 high = 482.25 ans = 361.6875\n",
      "low = 241.125 high = 361.6875 ans = 301.40625\n",
      "low = 301.40625 high = 361.6875 ans = 331.546875\n",
      "low = 331.546875 high = 361.6875 ans = 346.6171875\n",
      "low = 346.6171875 high = 361.6875 ans = 354.15234375\n",
      "low = 346.6171875 high = 354.15234375 ans = 350.384765625\n",
      "low = 350.384765625 high = 354.15234375 ans = 352.2685546875\n",
      "low = 350.384765625 high = 352.2685546875 ans = 351.32666015625\n",
      "low = 351.32666015625 high = 352.2685546875 ans = 351.797607421875\n",
      "low = 351.32666015625 high = 351.797607421875 ans = 351.5621337890625\n",
      "low = 351.32666015625 high = 351.5621337890625 ans = 351.44439697265625\n",
      "low = 351.32666015625 high = 351.44439697265625 ans = 351.3855285644531\n",
      "low = 351.32666015625 high = 351.3855285644531 ans = 351.35609436035156\n",
      "low = 351.35609436035156 high = 351.3855285644531 ans = 351.37081146240234\n",
      "low = 351.35609436035156 high = 351.37081146240234 ans = 351.36345291137695\n",
      "low = 351.35609436035156 high = 351.36345291137695 ans = 351.35977363586426\n",
      "low = 351.35977363586426 high = 351.36345291137695 ans = 351.3616132736206\n",
      "low = 351.3616132736206 high = 351.36345291137695 ans = 351.3625330924988\n",
      "low = 351.3625330924988 high = 351.36345291137695 ans = 351.36299300193787\n",
      "low = 351.36299300193787 high = 351.36345291137695 ans = 351.3632229566574\n",
      "low = 351.36299300193787 high = 351.3632229566574 ans = 351.36310797929764\n",
      "number of guesses = 30\n",
      "351.36305049061775 is close to square root of 123456.0\n"
     ]
    }
   ],
   "source": [
    "# -* Figure 3.5 -*-\n",
    "# Using bisection search to approximate square root\n",
    "\n",
    "x = float(input('Enter a value: '))\n",
    "\n",
    "epsilon = 0.01\n",
    "num_guesses = 0\n",
    "low = 0\n",
    "high = max(1, x)\n",
    "ans = (high + low)/2\n",
    "while abs(ans**2 - x) >= epsilon:\n",
    "    print('low =', low, 'high =', high, 'ans =', ans)\n",
    "    num_guesses += 1\n",
    "    if ans**2 < x:\n",
    "        low = ans\n",
    "    else:\n",
    "        high = ans\n",
    "    ans = (high + low)/2\n",
    "print('number of guesses =', num_guesses)\n",
    "print(ans, 'is close to square root of', x)\n"
   ]
  },
  {
   "cell_type": "code",
   "execution_count": 21,
   "metadata": {},
   "outputs": [
    {
     "name": "stdout",
     "output_type": "stream",
     "text": [
      "7.0 is close to the log base 2 of 128.0\n"
     ]
    }
   ],
   "source": [
    "# -* Figure 3.5 -*-\n",
    "# Using bisection search to approximate the log base 2 of x\n",
    "\n",
    "x = float(input('Enter a value: '))\n",
    "\n",
    "epsilon = 0.01\n",
    "# Find the lower bound of ans\n",
    "lower_bound = 0\n",
    "while 2 ** lower_bound < x:\n",
    "    lower_bound += 1\n",
    "low = lower_bound -1\n",
    "high = lower_bound + 1\n",
    "# Perform the bisection search\n",
    "ans = (high + low) / 2\n",
    "while abs(2**ans -x) >= epsilon:\n",
    "    if 2**ans < x:\n",
    "        low = ans\n",
    "    else:\n",
    "        high = ans\n",
    "    ans = (high + low) / 2\n",
    "print(ans, 'is close to the log base 2 of', x)"
   ]
  }
 ],
 "metadata": {
  "interpreter": {
   "hash": "5944cb39919a7f27c420bd980a1b63723fb7741450f322fe3459917f703486a8"
  },
  "kernelspec": {
   "display_name": "Python 3.9.7 ('base')",
   "language": "python",
   "name": "python3"
  },
  "language_info": {
   "codemirror_mode": {
    "name": "ipython",
    "version": 3
   },
   "file_extension": ".py",
   "mimetype": "text/x-python",
   "name": "python",
   "nbconvert_exporter": "python",
   "pygments_lexer": "ipython3",
   "version": "3.9.7"
  },
  "orig_nbformat": 4
 },
 "nbformat": 4,
 "nbformat_minor": 2
}
