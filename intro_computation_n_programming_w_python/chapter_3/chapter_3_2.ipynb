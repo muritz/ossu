{
 "cells": [
  {
   "cell_type": "markdown",
   "metadata": {},
   "source": [
    "## Chapter 3: Some simple numerical programs\n",
    "### Chapter 3.1: Approximate solutions and bisection search\n",
    "### Successive approximation with bisection search"
   ]
  },
  {
   "cell_type": "code",
   "execution_count": 16,
   "metadata": {},
   "outputs": [
    {
     "name": "stdout",
     "output_type": "stream",
     "text": [
      "number of guesses = 49990\n",
      "4.999000000001688 is close to square root of 25.0\n"
     ]
    }
   ],
   "source": [
    "# -*- Figure 3.4 -*-\n",
    "# Prints an approximation of the square root of x\n",
    "# using exhaustive enumeration\n",
    "# very slow algorithm\n",
    "\n",
    "x = float(input('Enter a value: '))\n",
    "\n",
    "epsilon = 0.01\n",
    "step = epsilon ** 2\n",
    "num_guesses = 0\n",
    "ans = 0.0 # incremented approximation of the cube root\n",
    "#while abs(ans**2 - x) >= epsilon and ans * ans <= x: \n",
    "#(fails for 0 < x < 1)\n",
    "while abs(ans**2 - x) >= epsilon and ans * ans <= x:\n",
    "    ans += step\n",
    "    num_guesses += 1\n",
    "print('number of guesses =', num_guesses)\n",
    "if abs(ans**2 -x) >= epsilon:\n",
    "    print('Failed on square root of', x)\n",
    "else:\n",
    "    print(ans, 'is close to square root of', x)"
   ]
  },
  {
   "cell_type": "code",
   "execution_count": 17,
   "metadata": {},
   "outputs": [
    {
     "name": "stdout",
     "output_type": "stream",
     "text": [
      "low = 0 high = 25.0 ans = 12.5\n",
      "low = 0 high = 12.5 ans = 6.25\n",
      "low = 0 high = 6.25 ans = 3.125\n",
      "low = 3.125 high = 6.25 ans = 4.6875\n",
      "low = 4.6875 high = 6.25 ans = 5.46875\n",
      "low = 4.6875 high = 5.46875 ans = 5.078125\n",
      "low = 4.6875 high = 5.078125 ans = 4.8828125\n",
      "low = 4.8828125 high = 5.078125 ans = 4.98046875\n",
      "low = 4.98046875 high = 5.078125 ans = 5.029296875\n",
      "low = 4.98046875 high = 5.029296875 ans = 5.0048828125\n",
      "low = 4.98046875 high = 5.0048828125 ans = 4.99267578125\n",
      "low = 4.99267578125 high = 5.0048828125 ans = 4.998779296875\n",
      "low = 4.998779296875 high = 5.0048828125 ans = 5.0018310546875\n",
      "number of guesses = 13\n",
      "5.00030517578125 is close to square root of -25.0\n"
     ]
    }
   ],
   "source": [
    "# -* Figure 3.5 -*-\n",
    "# Using bisection search to approximate square root\n",
    "\n",
    "y = float(input('Enter a value: '))\n",
    "x = abs(y)\n",
    "\n",
    "epsilon = 0.01\n",
    "num_guesses = 0\n",
    "low = 0\n",
    "high = x\n",
    "ans = (high + low)/2\n",
    "while abs(ans**2 - x) >= epsilon:\n",
    "    print('low =', low, 'high =', high, 'ans =', ans)\n",
    "    num_guesses += 1\n",
    "    if ans**2 < x:\n",
    "        low = ans\n",
    "    else:\n",
    "        high = ans\n",
    "    ans = (high + low)/2\n",
    "print('number of guesses =', num_guesses)\n",
    "print(ans, 'is close to square root of', y)\n"
   ]
  },
  {
   "cell_type": "code",
   "execution_count": 35,
   "metadata": {},
   "outputs": [
    {
     "name": "stdout",
     "output_type": "stream",
     "text": [
      "6.0 is close to the log base 2 of 64.0\n"
     ]
    }
   ],
   "source": [
    "# -* Figure 3.6 -*-\n",
    "# Using bisection search to approximate log base 2 of x\n",
    "\n",
    "x = float(input('Enter a value: '))\n",
    "\n",
    "epsilon = 0.01\n",
    "# Find lower bound on ans\n",
    "lower_bound = 0\n",
    "while 2**lower_bound < x:\n",
    "    lower_bound += 1\n",
    "low = lower_bound - 1\n",
    "high = lower_bound + 1\n",
    "#perform bisection search\n",
    "ans = (high + low)/2\n",
    "while abs(2**ans - x) >= epsilon:\n",
    "    if 2**ans < x:\n",
    "        low = ans\n",
    "    else:\n",
    "        high = ans\n",
    "    ans = (high + low)/2\n",
    "print(ans, 'is close to the log base 2 of', x)"
   ]
  }
 ],
 "metadata": {
  "interpreter": {
   "hash": "5944cb39919a7f27c420bd980a1b63723fb7741450f322fe3459917f703486a8"
  },
  "kernelspec": {
   "display_name": "Python 3.9.7 ('base')",
   "language": "python",
   "name": "python3"
  },
  "language_info": {
   "codemirror_mode": {
    "name": "ipython",
    "version": 3
   },
   "file_extension": ".py",
   "mimetype": "text/x-python",
   "name": "python",
   "nbconvert_exporter": "python",
   "pygments_lexer": "ipython3",
   "version": "3.9.7"
  },
  "orig_nbformat": 4
 },
 "nbformat": 4,
 "nbformat_minor": 2
}
