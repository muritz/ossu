{
 "cells": [
  {
   "cell_type": "markdown",
   "metadata": {},
   "source": [
    "## Figure 3-1: Exhaustive enumeration"
   ]
  },
  {
   "cell_type": "code",
   "execution_count": 9,
   "metadata": {},
   "outputs": [
    {
     "name": "stdout",
     "output_type": "stream",
     "text": [
      "Cube root of 27 is 3\n"
     ]
    }
   ],
   "source": [
    "# -*- Figure 3.1 -*-\n",
    "# Find the cube root of a perfect cube\n",
    "\n",
    "x = int(input('Enter an integer: '))\n",
    "ans = 0\n",
    "while ans**3 < abs(x):\n",
    "    ans += 1\n",
    "if ans**3 != abs(x):\n",
    "    print(x, \"is not a perfect cube\")\n",
    "else:\n",
    "    if x < 0:\n",
    "        ans = -ans\n",
    "    print('Cube root of', x, 'is', ans)"
   ]
  },
  {
   "cell_type": "markdown",
   "metadata": {},
   "source": [
    "## Figure 3-2: Exhaustive enumeration"
   ]
  },
  {
   "cell_type": "code",
   "execution_count": 17,
   "metadata": {},
   "outputs": [
    {
     "name": "stdout",
     "output_type": "stream",
     "text": [
      "Smallest divisor of x is 3\n"
     ]
    }
   ],
   "source": [
    "# -*- Figure 3.2 -*-\n",
    "# Test if an integer > 2 is prime, if not, print the smallest divisor\n",
    "\n",
    "x = int(input('Enter an integer greater than 2: '))\n",
    "smallest_divisor = None\n",
    "for i in range(2, x):\n",
    "    if x % i == 0:\n",
    "        smallest_divisor = i\n",
    "        break\n",
    "if smallest_divisor != None:\n",
    "    print('Smallest divisor of x is', smallest_divisor)\n",
    "else:\n",
    "    print(x, 'is a prime number')"
   ]
  },
  {
   "cell_type": "code",
   "execution_count": 3,
   "metadata": {},
   "outputs": [
    {
     "name": "stdout",
     "output_type": "stream",
     "text": [
      "Largest divisor of x is 5\n"
     ]
    }
   ],
   "source": [
    "# -*- Figure 3.2 -*-\n",
    "# Test if an integer > 2 is prime, if not, print the largest divisor\n",
    "\n",
    "x = int(input('Enter an integer greater than 2: '))\n",
    "largest_divisor = None\n",
    "for i in range(2, x):\n",
    "    if x % i == 0:\n",
    "        largest_divisor = i\n",
    "if largest_divisor != None:\n",
    "    print('Largest divisor of x is', largest_divisor)\n",
    "else:\n",
    "    print(x, 'is a prime number')"
   ]
  },
  {
   "cell_type": "code",
   "execution_count": 5,
   "metadata": {},
   "outputs": [
    {
     "name": "stdout",
     "output_type": "stream",
     "text": [
      "Smallest divisor of x is 3\n"
     ]
    }
   ],
   "source": [
    "# -*- Figure 3.3 -*-\n",
    "# Test if an integer > 2 is prime, first check if its even then test only all uneven numbers up to but not including x\n",
    "\n",
    "x = int(input('Enter an integer greater than 2: '))\n",
    "smallest_divisor = None\n",
    "\n",
    "if x % 2 == 0:\n",
    "    smallest_divisor = 2\n",
    "else:\n",
    "    for i in range(3, x, 2):\n",
    "        if x % i == 0:\n",
    "            smallest_divisor = i\n",
    "            break\n",
    "if smallest_divisor != None:\n",
    "    print('Smallest divisor of x is', smallest_divisor)\n",
    "else:\n",
    "    print(x, 'is a prime number')"
   ]
  },
  {
   "cell_type": "markdown",
   "metadata": {},
   "source": [
    "*Finger exercise*: \n",
    "Write a program that asks the user to enter an integer and prints two integers, root and pwr, such that 1 < pwr < 6 and root**pwr is equal to the integer entered by the user. If no such pair of integers exists, it should print a message to that effect."
   ]
  },
  {
   "cell_type": "code",
   "execution_count": 1,
   "metadata": {},
   "outputs": [
    {
     "name": "stdout",
     "output_type": "stream",
     "text": [
      "Root of 27 to the power of 3 is 3.\n"
     ]
    }
   ],
   "source": [
    "x = int(input(\"Enter and integer: \"))\n",
    "\n",
    "root = None\n",
    "\n",
    "for i in range(2, 6):\n",
    "    if (x ** (1.0/i) % i) == 0:\n",
    "        root = int(x ** (1.0/i))\n",
    "        pwr = i\n",
    "        print(f'Root of {x} to the power of {pwr} is {root}.')\n",
    "        break\n",
    "    elif root != None:\n",
    "        print(x, 'has no integer root.')"
   ]
  },
  {
   "cell_type": "markdown",
   "metadata": {},
   "source": [
    "*Finger exercise:*\n",
    " Write a program that prints the sum of the prime numbers greater than 2 and less than 1000. Hint: you probably want to have a loop that is a primality test nested inside a loop that iterates over the odd integers between 3 and 999."
   ]
  },
  {
   "cell_type": "code",
   "execution_count": 39,
   "metadata": {},
   "outputs": [
    {
     "name": "stdout",
     "output_type": "stream",
     "text": [
      "The sum of primes between 1 and 999 is 76125.\n"
     ]
    }
   ],
   "source": [
    "# User input for the upper limit\n",
    "x = int(input(\"Enter the upper limit for the sum of primes: \"))\n",
    "sum_primes = 0\n",
    "# Outer loop only for odd numbers\n",
    "for i in range(3, x, 2):\n",
    "    divisor = None\n",
    "    # Inner loop test divisibility only up to the square root of i\n",
    "    # and only for odd values, since even values have been\n",
    "    # excluded in the outer loop\n",
    "    for j in range(3, int(i**0.5) + 1, 2):\n",
    "        if i % j == 0:\n",
    "            divisor = j\n",
    "            break\n",
    "    if divisor == None:\n",
    "        sum_primes += i\n",
    "print(f'The sum of primes between 1 and {x} is {sum_primes}.')"
   ]
  },
  {
   "cell_type": "markdown",
   "metadata": {},
   "source": []
  }
 ],
 "metadata": {
  "interpreter": {
   "hash": "5944cb39919a7f27c420bd980a1b63723fb7741450f322fe3459917f703486a8"
  },
  "kernelspec": {
   "display_name": "Python 3.9.7 ('base')",
   "language": "python",
   "name": "python3"
  },
  "language_info": {
   "codemirror_mode": {
    "name": "ipython",
    "version": 3
   },
   "file_extension": ".py",
   "mimetype": "text/x-python",
   "name": "python",
   "nbconvert_exporter": "python",
   "pygments_lexer": "ipython3",
   "version": "3.9.7"
  },
  "orig_nbformat": 4
 },
 "nbformat": 4,
 "nbformat_minor": 2
}
