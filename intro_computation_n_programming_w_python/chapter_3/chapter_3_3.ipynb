{
 "cells": [
  {
   "cell_type": "markdown",
   "metadata": {},
   "source": [
    "## Chapter 3: Some simple numerical programs\n",
    "### Chapter 3.3: A few words about using floats\n",
    "For comparisons of calculated floating poimt values it's nearly always more safe to compare to an epsilon.\n",
    "\n",
    "In this chapter we compare the performance of *Newton-Raphson* algorithm with *Bisection Search* for finding a square root."
   ]
  },
  {
   "cell_type": "code",
   "execution_count": 4,
   "metadata": {},
   "outputs": [
    {
     "name": "stdout",
     "output_type": "stream",
     "text": [
      "Square root of k = 25 is about 5.000012953048684\n",
      "Newton Raphson requires 4 iterations.\n"
     ]
    }
   ],
   "source": [
    "#-*- Figure 3-7: Newton-Rapshon to find a square root\n",
    "# Find x such that x**2 - y is within epsilon of 0\n",
    "\n",
    "k = int(input(\"Please enter desired product y: \"))\n",
    "\n",
    "epsilon = 0.01\n",
    "guess = k/2\n",
    "num_iterations = 0\n",
    "while abs(guess**2 - k) >= epsilon:\n",
    "    num_iterations += 1\n",
    "    guess = guess -(((guess**2) - k) / (2*guess))\n",
    "print(f'Square root of k = {k} is about {guess}')\n",
    "print(f'Newton Raphson requires {num_iterations} iterations.')"
   ]
  },
  {
   "cell_type": "code",
   "execution_count": 13,
   "metadata": {},
   "outputs": [
    {
     "name": "stdout",
     "output_type": "stream",
     "text": [
      "Newton Raphson iterations = 18 result = 31622.776601736292,\n",
      "Bisection Search iterations = 48 result = 31622.776601684047.\n"
     ]
    }
   ],
   "source": [
    "# -*- Finger Exercise -*-\n",
    "# Compare the number of guesses for finding a square root\n",
    "# with Newton Raphson and Bisection search algorithms\n",
    "\n",
    "# Input number and desired precision\n",
    "k = float(input('Enter a value: '))\n",
    "epsilon = float(input('Enter desired precision: '))\n",
    "\n",
    "# Bisection search algorithm\n",
    "k = abs(k)\n",
    "num_guesses = 0\n",
    "low = 0\n",
    "high = k\n",
    "ans = (high + low)/2\n",
    "while abs(ans**2 - k) >= epsilon:\n",
    "    num_guesses += 1\n",
    "    if ans**2 < k:\n",
    "        low = ans\n",
    "    else:\n",
    "        high = ans\n",
    "    ans = (high + low)/2\n",
    "\n",
    "# Newton Raphson algorithm\n",
    "guess = k/2\n",
    "num_iterations = 0\n",
    "while abs(guess**2 - k) >= epsilon:\n",
    "    num_iterations += 1\n",
    "    guess = guess -(((guess**2) - k) / (2*guess))\n",
    "\n",
    "# Comparison\n",
    "print(f'Newton Raphson iterations = {num_iterations} result = {ans},\\n'\n",
    "      f'Bisection Search iterations = {num_guesses} result = {guess}.')"
   ]
  }
 ],
 "metadata": {
  "interpreter": {
   "hash": "5944cb39919a7f27c420bd980a1b63723fb7741450f322fe3459917f703486a8"
  },
  "kernelspec": {
   "display_name": "Python 3.9.7 ('base')",
   "language": "python",
   "name": "python3"
  },
  "language_info": {
   "codemirror_mode": {
    "name": "ipython",
    "version": 3
   },
   "file_extension": ".py",
   "mimetype": "text/x-python",
   "name": "python",
   "nbconvert_exporter": "python",
   "pygments_lexer": "ipython3",
   "version": "3.9.7"
  },
  "orig_nbformat": 4
 },
 "nbformat": 4,
 "nbformat_minor": 2
}
