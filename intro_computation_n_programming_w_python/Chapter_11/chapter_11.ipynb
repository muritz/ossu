{
 "cells": [
  {
   "cell_type": "markdown",
   "metadata": {},
   "source": [
    "## 11 Simplistic Introduction To Algorithmic Complexity\n",
    "programmers often increase the **conceptual complexity** of a program in an effort to reduce its **computational complexity**"
   ]
  },
  {
   "cell_type": "code",
   "execution_count": 3,
   "metadata": {},
   "outputs": [],
   "source": [
    "# Creating a large ordered list\n",
    "\n",
    "L = [i for i in range(100000)]"
   ]
  },
  {
   "cell_type": "code",
   "execution_count": 7,
   "metadata": {},
   "outputs": [
    {
     "data": {
      "text/plain": [
       "True"
      ]
     },
     "execution_count": 7,
     "metadata": {},
     "output_type": "execute_result"
    }
   ],
   "source": [
    "# -*- Figure 12-2 -*-\n",
    "# Binary Search (Bisection Search exploiting assumptions)\n",
    "\n",
    "def search(L, e):\n",
    "    \"\"\"Assumes L is a list, the elements of which are in ascending\n",
    "    order.\n",
    "    Returns True if e is in L and False otherwise\n",
    "    \"\"\"\n",
    "    for i in range(len(L)):\n",
    "        if L[i] == e:\n",
    "            return True\n",
    "        if L[i] > e:\n",
    "            return False\n",
    "    return False\n",
    "\n",
    "search(L, 99999)"
   ]
  },
  {
   "cell_type": "code",
   "execution_count": 10,
   "metadata": {},
   "outputs": [
    {
     "data": {
      "text/plain": [
       "False"
      ]
     },
     "execution_count": 10,
     "metadata": {},
     "output_type": "execute_result"
    }
   ],
   "source": [
    "# -*- Figure 12-3 -*-\n",
    "# Recursive Binary Search\n",
    "\n",
    "def search(L, e):\n",
    "    \"\"\"Assumes L is alist, the elemnts of which are \n",
    "    in ascending order.\n",
    "    Returns True if e is in L, False otherwise\n",
    "    \"\"\"\n",
    "    def bin_search(L, e, low, high):\n",
    "        # Decrements high -low\n",
    "        if high == low:\n",
    "            return L[low] == e\n",
    "        mid = (low + high) // 2\n",
    "        if L[mid] == e:\n",
    "            return True\n",
    "        elif L[mid] > e:\n",
    "            if low == mid: # nothing left to search\n",
    "                return False\n",
    "            else:\n",
    "                return bin_search(L, e, low, mid - 1)\n",
    "        else:\n",
    "            return bin_search(L, e, mid + 1, high)\n",
    "\n",
    "    if len(L) == 0:\n",
    "        return False\n",
    "    else:\n",
    "        return bin_search(L, e, 0, len(L) - 1)\n",
    "\n",
    "search(L, 1000001)\n"
   ]
  },
  {
   "cell_type": "code",
   "execution_count": 4,
   "metadata": {},
   "outputs": [
    {
     "name": "stdout",
     "output_type": "stream",
     "text": [
      "[2, 10, 12, 30, 41, 50]\n"
     ]
    }
   ],
   "source": [
    "# -*- Figure 12-4 -*-\n",
    "# Selection Sort\n",
    "\n",
    "def sel_sort(L):\n",
    "    \"\"\"Assumes that L is a list of elements that can be\n",
    "        compared using >.\n",
    "    Sorts L in ascendiing order\"\"\"\n",
    "    suffix_start = 0\n",
    "    while suffix_start != len(L):\n",
    "        # look at each element in suffix\n",
    "        for i in range(suffix_start, len(L)):\n",
    "            if L[i] < L[suffix_start]:\n",
    "                #swap position of elements\n",
    "                L[suffix_start], L[i] = L[i], L[suffix_start]\n",
    "        suffix_start += 1\n",
    "    return(L)\n",
    "\n",
    "L1 = [30, 41, 50, 10, 12, 2]\n",
    "print(sel_sort(L1))"
   ]
  }
 ],
 "metadata": {
  "kernelspec": {
   "display_name": "Python 3.9.7 ('base')",
   "language": "python",
   "name": "python3"
  },
  "language_info": {
   "codemirror_mode": {
    "name": "ipython",
    "version": 3
   },
   "file_extension": ".py",
   "mimetype": "text/x-python",
   "name": "python",
   "nbconvert_exporter": "python",
   "pygments_lexer": "ipython3",
   "version": "3.9.7"
  },
  "orig_nbformat": 4,
  "vscode": {
   "interpreter": {
    "hash": "5944cb39919a7f27c420bd980a1b63723fb7741450f322fe3459917f703486a8"
   }
  }
 },
 "nbformat": 4,
 "nbformat_minor": 2
}
