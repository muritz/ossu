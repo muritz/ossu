{
 "cells": [
  {
   "cell_type": "markdown",
   "metadata": {},
   "source": [
    "## Chapter 4: Functions, Scoping and Abstraction\n",
    "### Chapter 4.2: Specifications\n",
    ">**Specification:** contract between implementer and **clients** of a function\n",
    "\n",
    ">**Assumption:** Condition that must be met by clients\n",
    "\n",
    ">**Guarantees:** Conditions that must be met by functions (e.g. not allowing square root of negative numbers)\n",
    "\n",
    ">**Decomposition:** creates structure that breaks a program into reasonably self contained, reusable parts\n",
    "\n",
    ">**Abstraction:** hides details of a function from the client (black-box)"
   ]
  },
  {
   "cell_type": "code",
   "execution_count": 9,
   "metadata": {},
   "outputs": [
    {
     "name": "stdout",
     "output_type": "stream",
     "text": [
      "-2.9998779296875\n"
     ]
    }
   ],
   "source": [
    "# -*- Figure 4-7 -*-\n",
    "# adds a specification to the implementation of \n",
    "# find_root in Figure 4-3\n",
    "\n",
    "def find_root(x, power, epsilon):\n",
    "    '''Returns float y such that y**power is\n",
    "    within epsilon of x.\n",
    "    Returns none if such float does not exist !!!\n",
    "\n",
    "    x:          int or float\n",
    "    power:      int >= 1\n",
    "    epsilon:    int or float > 0\n",
    "\n",
    "    Uses Bisection Search algorithm'''\n",
    "    # Find interval containing the answer\n",
    "    if x < 0 and power % 2 == 0:\n",
    "        return None\n",
    "    low = min(-1, x)\n",
    "    high = max(1, x)\n",
    "    # Use bisection search\n",
    "    ans = (high + low) / 2\n",
    "    while abs(ans**power - x) >= epsilon:\n",
    "        if ans**power < x:\n",
    "            low = ans\n",
    "        else:\n",
    "            high = ans\n",
    "        ans = (high + low) / 2\n",
    "    return ans\n",
    "\n",
    "# Function call with parameters\n",
    "print(find_root(-27, 3, 0.01))"
   ]
  }
 ],
 "metadata": {
  "interpreter": {
   "hash": "5944cb39919a7f27c420bd980a1b63723fb7741450f322fe3459917f703486a8"
  },
  "kernelspec": {
   "display_name": "Python 3.9.7 ('base')",
   "language": "python",
   "name": "python3"
  },
  "language_info": {
   "codemirror_mode": {
    "name": "ipython",
    "version": 3
   },
   "file_extension": ".py",
   "mimetype": "text/x-python",
   "name": "python",
   "nbconvert_exporter": "python",
   "pygments_lexer": "ipython3",
   "version": "3.9.7"
  },
  "orig_nbformat": 4
 },
 "nbformat": 4,
 "nbformat_minor": 2
}
