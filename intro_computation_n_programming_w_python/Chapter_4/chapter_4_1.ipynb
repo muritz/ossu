{
 "cells": [
  {
   "cell_type": "markdown",
   "metadata": {},
   "source": [
    "## Chapter 4: Functions, Scoping and Abstraction\n",
    "### Chapter 4.1: Functions and Scoping"
   ]
  },
  {
   "cell_type": "code",
   "execution_count": 9,
   "metadata": {},
   "outputs": [
    {
     "name": "stdout",
     "output_type": "stream",
     "text": [
      "None\n"
     ]
    }
   ],
   "source": [
    "# -+- Figure 4-3 Function to find the root power \n",
    "\n",
    "def find_root(x, power, epsilon):\n",
    "    # Find interval containing the answer\n",
    "    if x < 0 and power % 2 == 0:\n",
    "        return None\n",
    "    low = min(-1, x)\n",
    "    high = max(1, x)\n",
    "    # Use bisection search\n",
    "    ans = (high + low) / 2\n",
    "    while abs(ans**power - x) >= epsilon:\n",
    "        if ans**power < x:\n",
    "            low = ans\n",
    "        else:\n",
    "            high = ans\n",
    "        ans = (high + low) / 2\n",
    "    return ans\n",
    "\n",
    "# Function call with parameters\n",
    "print(find_root(-27, 2, 0.01))"
   ]
  },
  {
   "cell_type": "code",
   "execution_count": 10,
   "metadata": {},
   "outputs": [
    {
     "name": "stdout",
     "output_type": "stream",
     "text": [
      "4.9999237060546875\n",
      "-1.9999542236328125\n",
      "2.000019073486328\n"
     ]
    }
   ],
   "source": [
    "# -*- Finger Exercise -*-\n",
    "# Call the find_root function on multiple values\n",
    "print(find_root(25, 2, 0.001))\n",
    "print(find_root(-8, 3, 0.001))\n",
    "print(find_root(16, 4, 0.001))"
   ]
  },
  {
   "cell_type": "code",
   "execution_count": 14,
   "metadata": {},
   "outputs": [
    {
     "name": "stdout",
     "output_type": "stream",
     "text": [
      "True\n"
     ]
    }
   ],
   "source": [
    "# -*- Finger exercise -*-\n",
    "# Write a function, that checks, whether one string\n",
    "# contains the other and vice versa\n",
    "\n",
    "def is_in(str1, str2):\n",
    "    return True if str1 in str2 or str2 in str1 else False\n",
    "\n",
    "print(is_in('ura','Murat'))"
   ]
  }
 ],
 "metadata": {
  "interpreter": {
   "hash": "5944cb39919a7f27c420bd980a1b63723fb7741450f322fe3459917f703486a8"
  },
  "kernelspec": {
   "display_name": "Python 3.9.7 ('base')",
   "language": "python",
   "name": "python3"
  },
  "language_info": {
   "codemirror_mode": {
    "name": "ipython",
    "version": 3
   },
   "file_extension": ".py",
   "mimetype": "text/x-python",
   "name": "python",
   "nbconvert_exporter": "python",
   "pygments_lexer": "ipython3",
   "version": "3.9.7"
  },
  "orig_nbformat": 4
 },
 "nbformat": 4,
 "nbformat_minor": 2
}
