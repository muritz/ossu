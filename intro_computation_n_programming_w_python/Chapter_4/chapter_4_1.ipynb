{
 "cells": [
  {
   "cell_type": "markdown",
   "metadata": {},
   "source": [
    "## Chapter 4: Functions, Scoping and Abstraction\n",
    "### Chapter 4.1: Functions and Scoping"
   ]
  },
  {
   "cell_type": "code",
   "execution_count": null,
   "metadata": {},
   "outputs": [],
   "source": [
    "# -*- Figure 4-3 Function to find the root power -*-\n",
    "\n",
    "def find_root(x, power, epsilon):\n",
    "    # Find interval containing the answer\n",
    "    if x < 0 and power % 2 == 0:\n",
    "        return None\n",
    "    low = min(-1, x)\n",
    "    high = max(1, x)\n",
    "    # Use bisection search\n",
    "    ans = (high + low) / 2\n",
    "    while abs(ans**power - x) >= epsilon:\n",
    "        if ans**power < x:\n",
    "            low = ans\n",
    "        else:\n",
    "            high = ans\n",
    "        ans = (high + low) / 2\n",
    "    return ans\n",
    "\n",
    "# Function call with parameters\n",
    "print(find_root(-27, 2, 0.01))"
   ]
  },
  {
   "cell_type": "code",
   "execution_count": null,
   "metadata": {},
   "outputs": [],
   "source": [
    "# -*- Finger Exercise -*-\n",
    "# Call the find_root function on multiple values\n",
    "print(find_root(25, 2, 0.001))\n",
    "print(find_root(-8, 3, 0.001))\n",
    "print(find_root(16, 4, 0.001))"
   ]
  },
  {
   "cell_type": "code",
   "execution_count": null,
   "metadata": {},
   "outputs": [],
   "source": [
    "# -*- Figure 4-4 -*-\n",
    "# Testing Function for 4-3\n",
    "\n",
    "def test_find_root(x_vals, powers, epsilons):\n",
    "    for x in x_vals:\n",
    "        for p in powers:\n",
    "            for e in epsilons:\n",
    "                result = find_root(x, p, e)\n",
    "            if result == None:\n",
    "                val = 'No root exists'\n",
    "            else:\n",
    "                val = 'Okay'\n",
    "                if abs(result**p -x) > e:\n",
    "                    val = 'Bad'\n",
    "            print(f'x = {x}, power = {p}, epsilon = {e}: {val}')\n",
    "\n",
    "x_vals = (0.25, 8, -8)\n",
    "powers = (1, 2, 3)\n",
    "epsilons = (0.1, 0.001, 1)\n",
    "test_find_root(x_vals, powers, epsilons)"
   ]
  },
  {
   "cell_type": "code",
   "execution_count": null,
   "metadata": {},
   "outputs": [],
   "source": [
    "# -*- Finger exercise -*-\n",
    "# Write a function, that checks, whether one string\n",
    "# contains the other and vice versa\n",
    "\n",
    "def is_in(str1, str2):\n",
    "    return True if str1 in str2 or str2 in str1 else False\n",
    "\n",
    "print(is_in('ura','Murat'))"
   ]
  },
  {
   "cell_type": "code",
   "execution_count": null,
   "metadata": {},
   "outputs": [],
   "source": [
    "# -*- Finger Exercise -*-\n",
    "# Write a function, that tests 'is_in'\n",
    "\n",
    "results = []\n",
    "def test_is_in(strings1, strings2):\n",
    "    for str1 in strings1:\n",
    "        for str2 in strings2:\n",
    "            result = is_in(str1, str2)\n",
    "            results.append(f'{str1} in {str2} or vice versa is {result}')\n",
    "    return results\n",
    "\n",
    "strings1 = ('Murat', 'Elias', 'Simon')\n",
    "strings2 = ('ura', 'lia', 'mon', 'moni')\n",
    "test_is_in(strings1, strings2)"
   ]
  },
  {
   "cell_type": "code",
   "execution_count": 22,
   "metadata": {},
   "outputs": [
    {
     "data": {
      "text/plain": [
       "3"
      ]
     },
     "execution_count": 22,
     "metadata": {},
     "output_type": "execute_result"
    }
   ],
   "source": [
    "# -*- Finger exercise -*-\n",
    "# write a function that accepts two arguments\n",
    "# calculate product if two arguments given\n",
    "# return the argument if only one is given\n",
    "\n",
    "def mult(arg1, arg2 = None):\n",
    "    return arg1 * arg2 if arg2 else arg1\n",
    "\n",
    "mult(3)"
   ]
  },
  {
   "cell_type": "markdown",
   "metadata": {},
   "source": [
    "### Variable Number of Arguments\n",
    "**\\*args** the unpacking operator, allows a function to accept variable number of positional arguments"
   ]
  },
  {
   "cell_type": "code",
   "execution_count": 2,
   "metadata": {},
   "outputs": [
    {
     "data": {
      "text/plain": [
       "5.0"
      ]
     },
     "execution_count": 2,
     "metadata": {},
     "output_type": "execute_result"
    }
   ],
   "source": [
    "def mean(*numbers):\n",
    "    # Assumes at least one argument and all arguments are numbers\n",
    "    # Returns the mean of the arguments\n",
    "    tot = 0\n",
    "    for a in numbers:\n",
    "        tot += a\n",
    "    return tot/len(numbers)\n",
    "\n",
    "mean(1,2,3,4,5,6,7,8,9)"
   ]
  },
  {
   "cell_type": "markdown",
   "metadata": {},
   "source": [
    "### Scoping\n",
    "Most of the time, you will only want to use variables that are local to a function, and the subtleties of scoping will be irrelevant. In fact, if your program depends upon some subtle scoping rule, you might consider rewriting to avoid doing so."
   ]
  },
  {
   "cell_type": "code",
   "execution_count": 4,
   "metadata": {},
   "outputs": [
    {
     "name": "stdout",
     "output_type": "stream",
     "text": [
      "x = 4\n",
      "z = 4\n",
      "x = 3\n",
      "y = 2\n"
     ]
    }
   ],
   "source": [
    "def f(x): # name x used as formal parameter\n",
    "    y = 1\n",
    "    x = x + y\n",
    "    print('x =', x)\n",
    "    return x\n",
    "x = 3\n",
    "y = 2\n",
    "z = f(x) # value used as actual parameter\n",
    "print('z =', z)\n",
    "print('x =', x)\n",
    "print('y =', y)"
   ]
  }
 ],
 "metadata": {
  "interpreter": {
   "hash": "5944cb39919a7f27c420bd980a1b63723fb7741450f322fe3459917f703486a8"
  },
  "kernelspec": {
   "display_name": "Python 3.9.7 ('base')",
   "language": "python",
   "name": "python3"
  },
  "language_info": {
   "codemirror_mode": {
    "name": "ipython",
    "version": 3
   },
   "file_extension": ".py",
   "mimetype": "text/x-python",
   "name": "python",
   "nbconvert_exporter": "python",
   "pygments_lexer": "ipython3",
   "version": "3.9.7"
  },
  "orig_nbformat": 4
 },
 "nbformat": 4,
 "nbformat_minor": 2
}
