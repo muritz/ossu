{
 "cells": [
  {
   "cell_type": "markdown",
   "metadata": {},
   "source": [
    "## Chapter 4: Functions, Scoping and Abstraction\n",
    "### Chapter 4.1: Functions and Scoping"
   ]
  },
  {
   "cell_type": "code",
   "execution_count": 9,
   "metadata": {},
   "outputs": [
    {
     "name": "stdout",
     "output_type": "stream",
     "text": [
      "None\n"
     ]
    }
   ],
   "source": [
    "# -+- Figure 4-3 Function to find the root power \n",
    "\n",
    "def find_root(x, power, epsilon):\n",
    "    # Find interval containing the answer\n",
    "    if x < 0 and power % 2 == 0:\n",
    "        return None\n",
    "    low = min(-1, x)\n",
    "    high = max(1, x)\n",
    "    # Use bisection search\n",
    "    ans = (high + low) / 2\n",
    "    while abs(ans**power - x) >= epsilon:\n",
    "        if ans**power < x:\n",
    "            low = ans\n",
    "        else:\n",
    "            high = ans\n",
    "        ans = (high + low) / 2\n",
    "    return ans\n",
    "\n",
    "# Function call with parameters\n",
    "print(find_root(-27, 2, 0.01))"
   ]
  },
  {
   "cell_type": "code",
   "execution_count": 10,
   "metadata": {},
   "outputs": [
    {
     "name": "stdout",
     "output_type": "stream",
     "text": [
      "4.9999237060546875\n",
      "-1.9999542236328125\n",
      "2.000019073486328\n"
     ]
    }
   ],
   "source": [
    "# -*- Finger Exercise -*-\n",
    "# Call the find_root function on multiple values\n",
    "print(find_root(25, 2, 0.001))\n",
    "print(find_root(-8, 3, 0.001))\n",
    "print(find_root(16, 4, 0.001))"
   ]
  },
  {
   "cell_type": "code",
   "execution_count": 15,
   "metadata": {},
   "outputs": [
    {
     "name": "stdout",
     "output_type": "stream",
     "text": [
      "x = 0.25, power = 1, epsilon = 1: Okay\n",
      "x = 0.25, power = 2, epsilon = 1: Okay\n",
      "x = 0.25, power = 3, epsilon = 1: Okay\n",
      "x = 8, power = 1, epsilon = 1: Okay\n",
      "x = 8, power = 2, epsilon = 1: Okay\n",
      "x = 8, power = 3, epsilon = 1: Okay\n",
      "x = -8, power = 1, epsilon = 1: Okay\n",
      "x = -8, power = 2, epsilon = 1: No root exists\n",
      "x = -8, power = 3, epsilon = 1: Okay\n"
     ]
    }
   ],
   "source": [
    "# -*- Figure 4-4 -*-\n",
    "# Testing Function for 4-3\n",
    "\n",
    "def test_find_root(x_vals, powers, epsilons):\n",
    "    for x in x_vals:\n",
    "        for p in powers:\n",
    "            for e in epsilons:\n",
    "                result = find_root(x, p, e)\n",
    "            if result == None:\n",
    "                val = 'No root exists'\n",
    "            else:\n",
    "                val = 'Okay'\n",
    "                if abs(result**p -x) > e:\n",
    "                    val = 'Bad'\n",
    "            print(f'x = {x}, power = {p}, epsilon = {e}: {val}')\n",
    "\n",
    "x_vals = (0.25, 8, -8)\n",
    "powers = (1, 2, 3)\n",
    "epsilons = (0.1, 0.001, 1)\n",
    "test_find_root(x_vals, powers, epsilons)"
   ]
  },
  {
   "cell_type": "code",
   "execution_count": 14,
   "metadata": {},
   "outputs": [
    {
     "name": "stdout",
     "output_type": "stream",
     "text": [
      "True\n"
     ]
    }
   ],
   "source": [
    "# -*- Finger exercise -*-\n",
    "# Write a function, that checks, whether one string\n",
    "# contains the other and vice versa\n",
    "\n",
    "def is_in(str1, str2):\n",
    "    return True if str1 in str2 or str2 in str1 else False\n",
    "\n",
    "print(is_in('ura','Murat'))"
   ]
  },
  {
   "cell_type": "code",
   "execution_count": 19,
   "metadata": {},
   "outputs": [
    {
     "data": {
      "text/plain": [
       "['Murat in ura or vice versa is True',\n",
       " 'Murat in lia or vice versa is False',\n",
       " 'Murat in mon or vice versa is False',\n",
       " 'Murat in moni or vice versa is False',\n",
       " 'Elias in ura or vice versa is False',\n",
       " 'Elias in lia or vice versa is True',\n",
       " 'Elias in mon or vice versa is False',\n",
       " 'Elias in moni or vice versa is False',\n",
       " 'Simon in ura or vice versa is False',\n",
       " 'Simon in lia or vice versa is False',\n",
       " 'Simon in mon or vice versa is True',\n",
       " 'Simon in moni or vice versa is False']"
      ]
     },
     "execution_count": 19,
     "metadata": {},
     "output_type": "execute_result"
    }
   ],
   "source": [
    "# -*- Finger Exercise -*-\n",
    "# Write a function, that tests 'is_in'\n",
    "\n",
    "results = []\n",
    "def test_is_in(strings1, strings2):\n",
    "    for str1 in strings1:\n",
    "        for str2 in strings2:\n",
    "            result = is_in(str1, str2)\n",
    "            results.append(f'{str1} in {str2} or vice versa is {result}')\n",
    "    return results\n",
    "\n",
    "strings1 = ('Murat', 'Elias', 'Simon')\n",
    "strings2 = ('ura', 'lia', 'mon', 'moni')\n",
    "test_is_in(strings1, strings2)"
   ]
  }
 ],
 "metadata": {
  "interpreter": {
   "hash": "5944cb39919a7f27c420bd980a1b63723fb7741450f322fe3459917f703486a8"
  },
  "kernelspec": {
   "display_name": "Python 3.9.7 ('base')",
   "language": "python",
   "name": "python3"
  },
  "language_info": {
   "codemirror_mode": {
    "name": "ipython",
    "version": 3
   },
   "file_extension": ".py",
   "mimetype": "text/x-python",
   "name": "python",
   "nbconvert_exporter": "python",
   "pygments_lexer": "ipython3",
   "version": "3.9.7"
  },
  "orig_nbformat": 4
 },
 "nbformat": 4,
 "nbformat_minor": 2
}
